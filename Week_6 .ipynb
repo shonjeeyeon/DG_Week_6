{
  "cells": [
    {
      "cell_type": "code",
      "source": [
        "!pip install modin\n",
        "!pip install ray\n",
        "!pip install dask"
      ],
      "metadata": {
        "id": "TzIKN8aDGOVJ",
        "colab": {
          "base_uri": "https://localhost:8080/"
        },
        "outputId": "a48950a3-ca3d-48fa-aff3-f33abcbeed38"
      },
      "execution_count": 7,
      "outputs": [
        {
          "output_type": "stream",
          "name": "stdout",
          "text": [
            "Looking in indexes: https://pypi.org/simple, https://us-python.pkg.dev/colab-wheels/public/simple/\n",
            "Requirement already satisfied: modin in /usr/local/lib/python3.7/dist-packages (0.12.1)\n",
            "Requirement already satisfied: pandas==1.3.5 in /usr/local/lib/python3.7/dist-packages (from modin) (1.3.5)\n",
            "Requirement already satisfied: fsspec in /usr/local/lib/python3.7/dist-packages (from modin) (2022.5.0)\n",
            "Requirement already satisfied: numpy>=1.16.5 in /usr/local/lib/python3.7/dist-packages (from modin) (1.21.6)\n",
            "Requirement already satisfied: packaging in /usr/local/lib/python3.7/dist-packages (from modin) (21.3)\n",
            "Requirement already satisfied: python-dateutil>=2.7.3 in /usr/local/lib/python3.7/dist-packages (from pandas==1.3.5->modin) (2.8.2)\n",
            "Requirement already satisfied: pytz>=2017.3 in /usr/local/lib/python3.7/dist-packages (from pandas==1.3.5->modin) (2022.1)\n",
            "Requirement already satisfied: six>=1.5 in /usr/local/lib/python3.7/dist-packages (from python-dateutil>=2.7.3->pandas==1.3.5->modin) (1.15.0)\n",
            "Requirement already satisfied: pyparsing!=3.0.5,>=2.0.2 in /usr/local/lib/python3.7/dist-packages (from packaging->modin) (3.0.9)\n",
            "Looking in indexes: https://pypi.org/simple, https://us-python.pkg.dev/colab-wheels/public/simple/\n",
            "Requirement already satisfied: ray in /usr/local/lib/python3.7/dist-packages (1.13.0)\n",
            "Requirement already satisfied: jsonschema in /usr/local/lib/python3.7/dist-packages (from ray) (4.3.3)\n",
            "Requirement already satisfied: click<=8.0.4,>=7.0 in /usr/local/lib/python3.7/dist-packages (from ray) (7.1.2)\n",
            "Requirement already satisfied: grpcio<=1.43.0,>=1.28.1 in /usr/local/lib/python3.7/dist-packages (from ray) (1.43.0)\n",
            "Requirement already satisfied: requests in /usr/local/lib/python3.7/dist-packages (from ray) (2.23.0)\n",
            "Requirement already satisfied: filelock in /usr/local/lib/python3.7/dist-packages (from ray) (3.7.1)\n",
            "Requirement already satisfied: numpy>=1.16 in /usr/local/lib/python3.7/dist-packages (from ray) (1.21.6)\n",
            "Requirement already satisfied: aiosignal in /usr/local/lib/python3.7/dist-packages (from ray) (1.2.0)\n",
            "Requirement already satisfied: attrs in /usr/local/lib/python3.7/dist-packages (from ray) (21.4.0)\n",
            "Requirement already satisfied: pyyaml in /usr/local/lib/python3.7/dist-packages (from ray) (3.13)\n",
            "Requirement already satisfied: protobuf<4.0.0,>=3.15.3 in /usr/local/lib/python3.7/dist-packages (from ray) (3.17.3)\n",
            "Requirement already satisfied: frozenlist in /usr/local/lib/python3.7/dist-packages (from ray) (1.3.0)\n",
            "Requirement already satisfied: virtualenv in /usr/local/lib/python3.7/dist-packages (from ray) (20.15.1)\n",
            "Requirement already satisfied: msgpack<2.0.0,>=1.0.0 in /usr/local/lib/python3.7/dist-packages (from ray) (1.0.4)\n",
            "Requirement already satisfied: six>=1.5.2 in /usr/local/lib/python3.7/dist-packages (from grpcio<=1.43.0,>=1.28.1->ray) (1.15.0)\n",
            "Requirement already satisfied: pyrsistent!=0.17.0,!=0.17.1,!=0.17.2,>=0.14.0 in /usr/local/lib/python3.7/dist-packages (from jsonschema->ray) (0.18.1)\n",
            "Requirement already satisfied: typing-extensions in /usr/local/lib/python3.7/dist-packages (from jsonschema->ray) (4.1.1)\n",
            "Requirement already satisfied: importlib-metadata in /usr/local/lib/python3.7/dist-packages (from jsonschema->ray) (4.11.4)\n",
            "Requirement already satisfied: importlib-resources>=1.4.0 in /usr/local/lib/python3.7/dist-packages (from jsonschema->ray) (5.7.1)\n",
            "Requirement already satisfied: zipp>=3.1.0 in /usr/local/lib/python3.7/dist-packages (from importlib-resources>=1.4.0->jsonschema->ray) (3.8.0)\n",
            "Requirement already satisfied: certifi>=2017.4.17 in /usr/local/lib/python3.7/dist-packages (from requests->ray) (2022.6.15)\n",
            "Requirement already satisfied: chardet<4,>=3.0.2 in /usr/local/lib/python3.7/dist-packages (from requests->ray) (3.0.4)\n",
            "Requirement already satisfied: idna<3,>=2.5 in /usr/local/lib/python3.7/dist-packages (from requests->ray) (2.10)\n",
            "Requirement already satisfied: urllib3!=1.25.0,!=1.25.1,<1.26,>=1.21.1 in /usr/local/lib/python3.7/dist-packages (from requests->ray) (1.24.3)\n",
            "Requirement already satisfied: distlib<1,>=0.3.1 in /usr/local/lib/python3.7/dist-packages (from virtualenv->ray) (0.3.4)\n",
            "Requirement already satisfied: platformdirs<3,>=2 in /usr/local/lib/python3.7/dist-packages (from virtualenv->ray) (2.5.2)\n",
            "Looking in indexes: https://pypi.org/simple, https://us-python.pkg.dev/colab-wheels/public/simple/\n",
            "Requirement already satisfied: dask in /usr/local/lib/python3.7/dist-packages (2.12.0)\n"
          ]
        }
      ]
    },
    {
      "cell_type": "code",
      "source": [
        "#Download dataset from Kaggle\n",
        "!pip install -q kaggle\n",
        "!mkdir ~/.kaggle\n",
        "!cp kaggle.json ~/.kaggle/\n",
        "!chmod 600 ~/.kaggle/kaggle.json\n",
        "!kaggle datasets download -d hm-land-registry/uk-housing-prices-paid\n",
        "!unzip uk-housing-prices-paid.zip"
      ],
      "metadata": {
        "colab": {
          "base_uri": "https://localhost:8080/"
        },
        "id": "o2LdxykUQjy1",
        "outputId": "04c424af-c44a-4327-b6fb-47132102ba23"
      },
      "execution_count": 10,
      "outputs": [
        {
          "output_type": "stream",
          "name": "stdout",
          "text": [
            "mkdir: cannot create directory ‘/root/.kaggle’: File exists\n",
            "uk-housing-prices-paid.zip: Skipping, found more recently modified local copy (use --force to force download)\n",
            "Archive:  uk-housing-prices-paid.zip\n",
            "  inflating: price_paid_records.csv  \n"
          ]
        }
      ]
    },
    {
      "cell_type": "markdown",
      "source": [
        "# **Read CSV with Pandas, Dask, Modin/Ray**"
      ],
      "metadata": {
        "id": "je-RQjir3CaA"
      }
    },
    {
      "cell_type": "code",
      "execution_count": 5,
      "metadata": {
        "id": "sVQ44xGeEovC"
      },
      "outputs": [],
      "source": [
        "import pandas as pd\n",
        "import dask.dataframe as dd\n",
        "import modin.pandas as mpd\n",
        "import ray\n",
        "import time"
      ]
    },
    {
      "cell_type": "code",
      "source": [
        "#Pandas to read the CSV\n",
        "\n",
        "start = time.time()\n",
        "df=pd.read_csv('/content/price_paid_records.csv')\n",
        "end = time.time()\n",
        "print('Time to read the CSV (pandas): ',end - start, 'seconds')"
      ],
      "metadata": {
        "id": "-HqDtmK-hcJo",
        "colab": {
          "base_uri": "https://localhost:8080/"
        },
        "outputId": "0aad2038-a88d-41b9-994f-9d1d28a63a83"
      },
      "execution_count": 11,
      "outputs": [
        {
          "output_type": "stream",
          "name": "stdout",
          "text": [
            "Time to read the CSV (pandas):  49.24463200569153 seconds\n"
          ]
        }
      ]
    },
    {
      "cell_type": "code",
      "source": [
        "#Modin/Ray to read the CSV\n",
        "\n",
        "start = time.time()\n",
        "ray.shutdown()\n",
        "ray.init()\n",
        "mpd.read_csv('/content/price_paid_records.csv')\n",
        "end = time.time()\n",
        "print('Time to read the CSV (modin/ray): ',end - start, 'seconds')"
      ],
      "metadata": {
        "colab": {
          "base_uri": "https://localhost:8080/"
        },
        "id": "ZZYBoBKtFBOI",
        "outputId": "df922734-bf47-4df7-84d1-d947ff136f5c"
      },
      "execution_count": null,
      "outputs": [
        {
          "output_type": "stream",
          "name": "stderr",
          "text": [
            "\u001b[2m\u001b[36m(deploy_ray_func pid=1619)\u001b[0m tcmalloc: large alloc 1202847744 bytes == 0x4b12000 @  0x7f58c76331e7 0x4a3940 0x5b438c 0x5d0ccd 0x5939af 0x516337 0x549576 0x593fce 0x548ae9 0x51566f 0x549576 0x4bca8a 0x5134a6 0x549576 0x4bca8a 0x5134a6 0x4bc98a 0x7f58c430ce02 0x7f58c43a0db6 0x7f58c4313306 0x7f58c44876ab 0x7f58c43e888f 0x7f58c44af7d3 0x7f58c44b072a 0x7f58c44c218e 0x7f58c449b530 0x7f58c46bff06 0x7f58c466ca3e 0x7f58c466cc96 0x7f58c4b03cab 0x7f58c4b04ee1\n",
            "\u001b[2m\u001b[36m(deploy_ray_func pid=1620)\u001b[0m tcmalloc: large alloc 1202847744 bytes == 0x44a2000 @  0x7f3db72661e7 0x4a3940 0x5b438c 0x5d0ccd 0x5939af 0x516337 0x549576 0x593fce 0x548ae9 0x51566f 0x549576 0x4bca8a 0x5134a6 0x549576 0x4bca8a 0x5134a6 0x4bc98a 0x7f3db3f3fe02 0x7f3db3fd3db6 0x7f3db3f46306 0x7f3db40ba6ab 0x7f3db401b88f 0x7f3db40e27d3 0x7f3db40e372a 0x7f3db40f518e 0x7f3db40ce530 0x7f3db42f2f06 0x7f3db429fa3e 0x7f3db429fc96 0x7f3db4736cab 0x7f3db4737ee1\n"
          ]
        }
      ]
    },
    {
      "cell_type": "code",
      "source": [
        "#Dask to read the CSV\n",
        "\n",
        "start = time.time()\n",
        "dd.read_csv('/content/price_paid_records.csv')\n",
        "end = time.time()\n",
        "print('Time to read the CSV (dask): ',end - start, 'seconds')"
      ],
      "metadata": {
        "id": "_EMxpe0uGc3j"
      },
      "execution_count": null,
      "outputs": []
    },
    {
      "cell_type": "markdown",
      "source": [
        "**Dask took the least time reading the CSV file!**\n"
      ],
      "metadata": {
        "id": "e_rIbh9o3c7a"
      }
    },
    {
      "cell_type": "markdown",
      "source": [
        "# **Clean the Column Names**"
      ],
      "metadata": {
        "id": "KOKiH4O5H2S9"
      }
    },
    {
      "cell_type": "code",
      "source": [
        "# Remove spaces and special chars from the cols\n",
        "\n",
        "data.columns=data.columns.str.lower()\n",
        "data.columns = data.columns.str.replace(' ', '')\n",
        "data.columns=data.columns.str.replace('[^\\w]','_',regex=True)\n",
        "print(data.columns)"
      ],
      "metadata": {
        "id": "LtLjn3jVHjrZ"
      },
      "execution_count": null,
      "outputs": []
    },
    {
      "cell_type": "markdown",
      "source": [
        "# **Validation**\n",
        "\n"
      ],
      "metadata": {
        "id": "sy7UVJjFFRA4"
      }
    },
    {
      "cell_type": "code",
      "source": [
        "%%writefile utility.py\n",
        "import yaml\n",
        "import logging\n",
        "import os\n",
        "import subprocess\n",
        "import pandas as pd\n",
        "import re\n",
        "import gc\n",
        "import datetime\n",
        "\n",
        "def read_config_file(filepath):\n",
        "  with open(filepath, 'r') as stream:\n",
        "    try:\n",
        "      return yaml.safe_load(stream)\n",
        "    except yaml.YAMLerror as exc:\n",
        "      logging.error(exc)\n",
        "\n",
        "def replacer(string, char):\n",
        "    pattern = char + '{2,}'\n",
        "    string = re.sub(pattern, char, string) \n",
        "    return string\n",
        "\n",
        "def col_header_val(df, table_config):\n",
        "  df.columns=df.columns.str.lower()\n",
        "  df.columns=df.columns.str.replace('[^\\w]','_',regex=True)\n",
        "  df.columns = list(map(lambda x: x.strip('_'), list(df.columns)))\n",
        "  df.columns = list(map(lambda x: replacer(x,'_'), list(df.columns)))\n",
        "  expected_col = list(map(lambda x: x.lower(), table_config['columns']))\n",
        "  expected_col.sort()\n",
        "  df.columns = list(map(lambda x: x.lower(), list(df.columns)))\n",
        "  df=df.reindex(sorted(df.columns), axis=1)\n",
        "  if len(df.columns) == len(expected_col) and list(expected_col) == list(df.columns):\n",
        "    print(\"Column name and column length validation passed\")\n",
        "    return 1\n",
        "  else:\n",
        "    print(\"Column name and column length validation failed\")\n",
        "    mismatched_columns_file = list(set(df.columns).difference(expected_col))\n",
        "    print(\"Following file columns are not in the YAML file\", mismatched_columns_file)\n",
        "    missing_YAML_file = list(set(expected_col).difference(df.columns))\n",
        "    print(\"Following YAML columns are not in the file uploaded\", missing_YAML_file)\n",
        "    logging.info(f'df columns: {df.columns}')\n",
        "    logging.info(f'expected columns: {expected_col}')\n",
        "    return 0"
      ],
      "metadata": {
        "id": "ilf89sD9Ud4_"
      },
      "execution_count": null,
      "outputs": []
    },
    {
      "cell_type": "code",
      "source": [
        "%%writefile store.yaml\n",
        "file_type: csv\n",
        "dataset_name: testfile\n",
        "file_name: price_paid_records\n",
        "table_name: endsurv\n",
        "inbound_delimiter: ','\n",
        "outbound_delimiter: '|'\n",
        "skip_leading_rows: 1\n",
        "columns:\n",
        "  - transaction_unique_identifier\n",
        "  - price\n",
        "  - date_of_transfer\n",
        "  - property_type\n",
        "  - old_new\n",
        "  - duration\n",
        "  - town_city\n",
        "  - district\n",
        "  - county\n",
        "  - ppdcategory_type\n",
        "  - record_status_monthly_file_only"
      ],
      "metadata": {
        "id": "WwX-9PXfmWLB"
      },
      "execution_count": null,
      "outputs": []
    },
    {
      "cell_type": "code",
      "source": [
        "# Read config file\n",
        "\n",
        "import utility as util\n",
        "config_data = util.read_config_file(\"store.yaml\")"
      ],
      "metadata": {
        "id": "-RA8Ys0zrDoy"
      },
      "execution_count": null,
      "outputs": []
    },
    {
      "cell_type": "code",
      "source": [
        "config_data['inbound_delimiter']"
      ],
      "metadata": {
        "id": "iWhtVjFirO7k"
      },
      "execution_count": null,
      "outputs": []
    },
    {
      "cell_type": "code",
      "source": [
        "#data of the config file\n",
        "config_data"
      ],
      "metadata": {
        "id": "WxOlPTpdrbK-"
      },
      "execution_count": null,
      "outputs": []
    },
    {
      "cell_type": "code",
      "source": [
        "#Read the file using config file\n",
        "file_type = config_data['file_type']\n",
        "source_file = \"content/\" + config_data['file_name'] + f'.{file_type}'\n",
        "df = pd.read_csv(source_file,config_data['inbound_delimiter'])\n",
        "df.head()"
      ],
      "metadata": {
        "id": "umkPDnv0xECp"
      },
      "execution_count": null,
      "outputs": []
    },
    {
      "cell_type": "code",
      "source": [
        "#Validate the Header of the file\n",
        "util.col_header_val(df,config_data)"
      ],
      "metadata": {
        "id": "Wvz41vuvxqIl"
      },
      "execution_count": null,
      "outputs": []
    },
    {
      "cell_type": "code",
      "source": [
        "print(\"Columns of files are:\" , df.columns)\n",
        "print(\"Columns of YAML are:\" , config_data['columns'])"
      ],
      "metadata": {
        "id": "JALkqVsIxp66"
      },
      "execution_count": null,
      "outputs": []
    },
    {
      "cell_type": "code",
      "source": [
        "if util.col_header_val(df,config_data)==0:\n",
        "    print(\"Validation failed\")\n",
        "    print(\"Columns of the file does not match the YAML\")\n",
        "else:\n",
        "    print(\"Column validation passed\")\n",
        "    print('Preview of the data\\n', df.head())"
      ],
      "metadata": {
        "id": "3TB4tgvdyFvm"
      },
      "execution_count": null,
      "outputs": []
    },
    {
      "cell_type": "markdown",
      "source": [
        "# **Save pipe separated file as .gz**"
      ],
      "metadata": {
        "id": "2o2RHaPPV1by"
      }
    },
    {
      "cell_type": "code",
      "source": [
        "#csv to gz\n",
        "\n",
        "import gzip\n",
        "import csv\n",
        "\n",
        "df.to_csv('dfgz.gz',\n",
        "      sep='|',\n",
        "      header=True,\n",
        "      index=False,\n",
        "      quoting=csv.QUOTE_ALL,\n",
        "      compression='gzip',\n",
        "      quotechar='\"',\n",
        "      doublequote=True,\n",
        "      line_terminator='\\n')"
      ],
      "metadata": {
        "id": "7OjQrk3SVwOh"
      },
      "execution_count": null,
      "outputs": []
    },
    {
      "cell_type": "code",
      "source": [
        "# Number of cols in the gz file\n",
        "import os\n",
        "entries = os.listdir('./dfgz.csv.gz')\n",
        "for entry in entries:\n",
        "    print(entry)"
      ],
      "metadata": {
        "id": "BW9kdyKNYloW"
      },
      "execution_count": null,
      "outputs": []
    },
    {
      "cell_type": "markdown",
      "source": [
        ""
      ],
      "metadata": {
        "id": "4t4hkDJv5U2W"
      }
    },
    {
      "cell_type": "markdown",
      "source": [
        "# **Summary of the File**"
      ],
      "metadata": {
        "id": "pMgVmsot31SB"
      }
    },
    {
      "cell_type": "code",
      "source": [
        "#Size of the CSV file\n",
        "\n",
        "import os\n",
        "data=dd.read_csv('C:/Users/jeeye/Documents/DG/price_paid_records.csv')\n",
        "print('Size of the CSV file: ', str(os.path.getsize(csvfile), 'Bytes'))"
      ],
      "metadata": {
        "id": "tDrvCOLCIh4X"
      },
      "execution_count": null,
      "outputs": []
    },
    {
      "cell_type": "code",
      "source": [
        "#Number of rows/cols\n",
        "print('Number of Rows: ',len(df.index))\n",
        "print('Number of columns:', len(df.columns))"
      ],
      "metadata": {
        "id": "eUrEpLGFG5MQ"
      },
      "execution_count": null,
      "outputs": []
    }
  ],
  "metadata": {
    "colab": {
      "name": "Week 6.ipynb",
      "provenance": [],
      "collapsed_sections": [
        "2o2RHaPPV1by"
      ]
    },
    "kernelspec": {
      "display_name": "Python 3",
      "name": "python3"
    },
    "language_info": {
      "name": "python"
    }
  },
  "nbformat": 4,
  "nbformat_minor": 0
}