{
  "cells": [
    {
      "cell_type": "code",
      "source": [
        "!pip install modin\n",
        "!pip install ray\n",
        "!pip install dask"
      ],
      "metadata": {
        "id": "TzIKN8aDGOVJ",
        "colab": {
          "base_uri": "https://localhost:8080/"
        },
        "outputId": "44a86e56-a285-45e1-fded-8d77dd7710ff"
      },
      "execution_count": null,
      "outputs": [
        {
          "output_type": "stream",
          "name": "stdout",
          "text": [
            "Looking in indexes: https://pypi.org/simple, https://us-python.pkg.dev/colab-wheels/public/simple/\n",
            "Requirement already satisfied: dask in /usr/local/lib/python3.7/dist-packages (2.12.0)\n"
          ]
        }
      ]
    },
    {
      "cell_type": "markdown",
      "source": [
        "# **Read CSV with Pandas, Dask, Modin/Ray**"
      ],
      "metadata": {
        "id": "je-RQjir3CaA"
      }
    },
    {
      "cell_type": "code",
      "execution_count": null,
      "metadata": {
        "id": "sVQ44xGeEovC",
        "colab": {
          "base_uri": "https://localhost:8080/",
          "height": 675
        },
        "outputId": "bfd2875b-9967-4844-bd64-137232b7e278"
      },
      "outputs": [
        {
          "output_type": "error",
          "ename": "ImportError",
          "evalue": "ignored",
          "traceback": [
            "\u001b[0;31m---------------------------------------------------------------------------\u001b[0m",
            "\u001b[0;31mImportError\u001b[0m                               Traceback (most recent call last)",
            "\u001b[0;32m/usr/local/lib/python3.7/dist-packages/dask/dataframe/__init__.py\u001b[0m in \u001b[0;36m<module>\u001b[0;34m()\u001b[0m\n\u001b[1;32m     12\u001b[0m     \u001b[0;32mfrom\u001b[0m \u001b[0;34m.\u001b[0m\u001b[0mgroupby\u001b[0m \u001b[0;32mimport\u001b[0m \u001b[0mAggregation\u001b[0m\u001b[0;34m\u001b[0m\u001b[0;34m\u001b[0m\u001b[0m\n\u001b[0;32m---> 13\u001b[0;31m     from .io import (\n\u001b[0m\u001b[1;32m     14\u001b[0m         \u001b[0mfrom_array\u001b[0m\u001b[0;34m,\u001b[0m\u001b[0;34m\u001b[0m\u001b[0;34m\u001b[0m\u001b[0m\n",
            "\u001b[0;32m/usr/local/lib/python3.7/dist-packages/dask/dataframe/io/__init__.py\u001b[0m in \u001b[0;36m<module>\u001b[0;34m()\u001b[0m\n\u001b[1;32m     12\u001b[0m )\n\u001b[0;32m---> 13\u001b[0;31m \u001b[0;32mfrom\u001b[0m \u001b[0;34m.\u001b[0m\u001b[0mcsv\u001b[0m \u001b[0;32mimport\u001b[0m \u001b[0mread_csv\u001b[0m\u001b[0;34m,\u001b[0m \u001b[0mto_csv\u001b[0m\u001b[0;34m,\u001b[0m \u001b[0mread_table\u001b[0m\u001b[0;34m,\u001b[0m \u001b[0mread_fwf\u001b[0m\u001b[0;34m\u001b[0m\u001b[0;34m\u001b[0m\u001b[0m\n\u001b[0m\u001b[1;32m     14\u001b[0m \u001b[0;32mfrom\u001b[0m \u001b[0;34m.\u001b[0m\u001b[0mhdf\u001b[0m \u001b[0;32mimport\u001b[0m \u001b[0mread_hdf\u001b[0m\u001b[0;34m,\u001b[0m \u001b[0mto_hdf\u001b[0m\u001b[0;34m\u001b[0m\u001b[0;34m\u001b[0m\u001b[0m\n",
            "\u001b[0;32m/usr/local/lib/python3.7/dist-packages/dask/dataframe/io/csv.py\u001b[0m in \u001b[0;36m<module>\u001b[0;34m()\u001b[0m\n\u001b[1;32m     20\u001b[0m \u001b[0;31m# this import checks for the importability of fsspec\u001b[0m\u001b[0;34m\u001b[0m\u001b[0;34m\u001b[0m\u001b[0;34m\u001b[0m\u001b[0m\n\u001b[0;32m---> 21\u001b[0;31m \u001b[0;32mfrom\u001b[0m \u001b[0;34m...\u001b[0m\u001b[0mbytes\u001b[0m \u001b[0;32mimport\u001b[0m \u001b[0mread_bytes\u001b[0m\u001b[0;34m,\u001b[0m \u001b[0mopen_file\u001b[0m\u001b[0;34m,\u001b[0m \u001b[0mopen_files\u001b[0m\u001b[0;34m\u001b[0m\u001b[0;34m\u001b[0m\u001b[0m\n\u001b[0m\u001b[1;32m     22\u001b[0m \u001b[0;32mfrom\u001b[0m \u001b[0;34m...\u001b[0m\u001b[0mdelayed\u001b[0m \u001b[0;32mimport\u001b[0m \u001b[0mdelayed\u001b[0m\u001b[0;34m\u001b[0m\u001b[0;34m\u001b[0m\u001b[0m\n",
            "\u001b[0;32m/usr/local/lib/python3.7/dist-packages/dask/bytes/__init__.py\u001b[0m in \u001b[0;36m<module>\u001b[0;34m()\u001b[0m\n\u001b[1;32m      9\u001b[0m     raise ImportError(\n\u001b[0;32m---> 10\u001b[0;31m         \u001b[0;34m\"fsspec is required to use any file-system functionality.\"\u001b[0m\u001b[0;34m\u001b[0m\u001b[0;34m\u001b[0m\u001b[0m\n\u001b[0m\u001b[1;32m     11\u001b[0m         \u001b[0;34m\" Please install using\\n\"\u001b[0m\u001b[0;34m\u001b[0m\u001b[0;34m\u001b[0m\u001b[0m\n",
            "\u001b[0;31mImportError\u001b[0m: fsspec is required to use any file-system functionality. Please install using\nconda install -c conda-forge 'fsspec>=0.3.3'\nor\npython -m pip install 'fsspec>=0.3.3'",
            "\nThe above exception was the direct cause of the following exception:\n",
            "\u001b[0;31mImportError\u001b[0m                               Traceback (most recent call last)",
            "\u001b[0;32m<ipython-input-3-58c4ff8f11b6>\u001b[0m in \u001b[0;36m<module>\u001b[0;34m()\u001b[0m\n\u001b[1;32m      1\u001b[0m \u001b[0;32mimport\u001b[0m \u001b[0mos\u001b[0m\u001b[0;34m\u001b[0m\u001b[0;34m\u001b[0m\u001b[0m\n\u001b[1;32m      2\u001b[0m \u001b[0;32mimport\u001b[0m \u001b[0mpandas\u001b[0m \u001b[0;32mas\u001b[0m \u001b[0mpd\u001b[0m\u001b[0;34m\u001b[0m\u001b[0;34m\u001b[0m\u001b[0m\n\u001b[0;32m----> 3\u001b[0;31m \u001b[0;32mimport\u001b[0m \u001b[0mdask\u001b[0m\u001b[0;34m.\u001b[0m\u001b[0mdataframe\u001b[0m \u001b[0;32mas\u001b[0m \u001b[0mdd\u001b[0m\u001b[0;34m\u001b[0m\u001b[0;34m\u001b[0m\u001b[0m\n\u001b[0m\u001b[1;32m      4\u001b[0m \u001b[0;32mimport\u001b[0m \u001b[0mmodin\u001b[0m\u001b[0;34m.\u001b[0m\u001b[0mpandas\u001b[0m \u001b[0;32mas\u001b[0m \u001b[0mmpd\u001b[0m\u001b[0;34m\u001b[0m\u001b[0;34m\u001b[0m\u001b[0m\n\u001b[1;32m      5\u001b[0m \u001b[0;32mimport\u001b[0m \u001b[0mray\u001b[0m\u001b[0;34m\u001b[0m\u001b[0;34m\u001b[0m\u001b[0m\n",
            "\u001b[0;32m/usr/local/lib/python3.7/dist-packages/dask/dataframe/__init__.py\u001b[0m in \u001b[0;36m<module>\u001b[0;34m()\u001b[0m\n\u001b[1;32m     54\u001b[0m         \u001b[0;34m\"  python -m pip install dask[dataframe] --upgrade  # or python -m pip install\"\u001b[0m\u001b[0;34m\u001b[0m\u001b[0;34m\u001b[0m\u001b[0m\n\u001b[1;32m     55\u001b[0m     )\n\u001b[0;32m---> 56\u001b[0;31m     \u001b[0;32mraise\u001b[0m \u001b[0mImportError\u001b[0m\u001b[0;34m(\u001b[0m\u001b[0mmsg\u001b[0m\u001b[0;34m)\u001b[0m \u001b[0;32mfrom\u001b[0m \u001b[0me\u001b[0m\u001b[0;34m\u001b[0m\u001b[0;34m\u001b[0m\u001b[0m\n\u001b[0m",
            "\u001b[0;31mImportError\u001b[0m: Dask dataframe requirements are not installed.\n\nPlease either conda or pip install as follows:\n\n  conda install dask                     # either conda install\n  python -m pip install dask[dataframe] --upgrade  # or python -m pip install",
            "",
            "\u001b[0;31m---------------------------------------------------------------------------\u001b[0;32m\nNOTE: If your import is failing due to a missing package, you can\nmanually install dependencies using either !pip or !apt.\n\nTo view examples of installing some common dependencies, click the\n\"Open Examples\" button below.\n\u001b[0;31m---------------------------------------------------------------------------\u001b[0m\n"
          ],
          "errorDetails": {
            "actions": [
              {
                "action": "open_url",
                "actionText": "Open Examples",
                "url": "/notebooks/snippets/importing_libraries.ipynb"
              }
            ]
          }
        }
      ],
      "source": [
        "import pandas as pd\n",
        "import dask.dataframe as dd\n",
        "import modin.pandas as mpd\n",
        "import ray\n",
        "import time"
      ]
    },
    {
      "cell_type": "code",
      "execution_count": null,
      "metadata": {
        "colab": {
          "base_uri": "https://localhost:8080/"
        },
        "id": "d39sCLqOEu6E",
        "outputId": "cb2974e8-8ef8-4bb7-9ad8-060bd7fcff2e"
      },
      "outputs": [
        {
          "output_type": "stream",
          "name": "stdout",
          "text": [
            "Mounted at /content/drive/\n"
          ]
        }
      ],
      "source": [
        "csvfile='C:\\Users\\jeeye\\Documents\\price_paid_records.csv'"
      ]
    },
    {
      "cell_type": "code",
      "source": [
        "#Pandas to read the CSV\n",
        "\n",
        "start = time.time()\n",
        "df=pd.read_csv(csvfile)\n",
        "end = time.time()\n",
        "print('Time to read the CSV (pandas): ',end - start, 'seconds')"
      ],
      "metadata": {
        "id": "-HqDtmK-hcJo",
        "colab": {
          "base_uri": "https://localhost:8080/"
        },
        "outputId": "184cc76f-4819-430b-d8e5-46ee590576c5"
      },
      "execution_count": null,
      "outputs": [
        {
          "output_type": "stream",
          "name": "stdout",
          "text": [
            "Time to read the CSV (pandas):  64.92612504959106 seconds\n"
          ]
        }
      ]
    },
    {
      "cell_type": "code",
      "source": [
        "#Modin/Ray to read the CSV\n",
        "\n",
        "start = time.time()\n",
        "ray.shutdown()\n",
        "ray.init()\n",
        "mpd.read_csv(csvfile)\n",
        "end = time.time()\n",
        "print('Time to read the CSV (modin/ray): ',end - start, 'seconds')"
      ],
      "metadata": {
        "colab": {
          "base_uri": "https://localhost:8080/"
        },
        "id": "ZZYBoBKtFBOI",
        "outputId": "3c5242b4-87a7-4a25-e84e-5bcf0859d15e"
      },
      "execution_count": null,
      "outputs": [
        {
          "output_type": "stream",
          "name": "stderr",
          "text": [
            "\u001b[2m\u001b[36m(deploy_ray_func pid=3040)\u001b[0m tcmalloc: large alloc 1202847744 bytes == 0x3f06000 @  0x7f575a1ec1e7 0x4a3940 0x5b438c 0x5d0ccd 0x5939af 0x516337 0x549576 0x593fce 0x548ae9 0x51566f 0x549576 0x4bca8a 0x5134a6 0x549576 0x4bca8a 0x5134a6 0x4bc98a 0x7f5756ec5e02 0x7f5756f59db6 0x7f5756ecc306 0x7f57570406ab 0x7f5756fa188f 0x7f57570687d3 0x7f575706972a 0x7f575707b18e 0x7f5757054530 0x7f5757278f06 0x7f5757225a3e 0x7f5757225c96 0x7f57576bccab 0x7f57576bdee1\n",
            "\u001b[2m\u001b[36m(deploy_ray_func pid=3041)\u001b[0m tcmalloc: large alloc 1202847744 bytes == 0x4280000 @  0x7f30ef15e1e7 0x4a3940 0x5b438c 0x5d0ccd 0x5939af 0x516337 0x549576 0x593fce 0x548ae9 0x51566f 0x549576 0x4bca8a 0x5134a6 0x549576 0x4bca8a 0x5134a6 0x4bc98a 0x7f30ebe37e02 0x7f30ebecbdb6 0x7f30ebe3e306 0x7f30ebfb26ab 0x7f30ebf1388f 0x7f30ebfda7d3 0x7f30ebfdb72a 0x7f30ebfed18e 0x7f30ebfc6530 0x7f30ec1eaf06 0x7f30ec197a3e 0x7f30ec197c96 0x7f30ec62ecab 0x7f30ec62fee1\n"
          ]
        }
      ]
    },
    {
      "cell_type": "code",
      "source": [
        "#Dask to read the CSV\n",
        "\n",
        "start = time.time()\n",
        "dd.read_csv(csvfile)\n",
        "end = time.time()\n",
        "print('Time to read the CSV (dask): ',end - start, 'seconds')"
      ],
      "metadata": {
        "id": "_EMxpe0uGc3j"
      },
      "execution_count": null,
      "outputs": []
    },
    {
      "cell_type": "markdown",
      "source": [
        "**Dask took the least time reading the CSV file!**\n"
      ],
      "metadata": {
        "id": "e_rIbh9o3c7a"
      }
    },
    {
      "cell_type": "markdown",
      "source": [
        "# **Clean the Column Names**"
      ],
      "metadata": {
        "id": "KOKiH4O5H2S9"
      }
    },
    {
      "cell_type": "code",
      "source": [
        "# Remove spaces and special chars from the cols\n",
        "\n",
        "data.columns=data.columns.str.lower()\n",
        "data.columns = data.columns.str.replace(' ', '')\n",
        "data.columns=data.columns.str.replace('[^\\w]','_',regex=True)\n",
        "print(data.columns)"
      ],
      "metadata": {
        "colab": {
          "base_uri": "https://localhost:8080/"
        },
        "id": "LtLjn3jVHjrZ",
        "outputId": "561a0ff3-376b-4d7a-dd95-8f43746591a4"
      },
      "execution_count": null,
      "outputs": [
        {
          "output_type": "stream",
          "name": "stdout",
          "text": [
            "Index(['transactionuniqueidentifier', 'price', 'dateoftransfer',\n",
            "       'propertytype', 'old_new', 'duration', 'town_city', 'district',\n",
            "       'county', 'ppdcategorytype', 'recordstatus_monthlyfileonly'],\n",
            "      dtype='object')\n"
          ]
        }
      ]
    },
    {
      "cell_type": "markdown",
      "source": [
        "# **Validation**\n",
        "\n"
      ],
      "metadata": {
        "id": "sy7UVJjFFRA4"
      }
    },
    {
      "cell_type": "code",
      "source": [
        "%%writefile utility.py\n",
        "import yaml\n",
        "import logging\n",
        "import os\n",
        "import subprocess\n",
        "import pandas as pd\n",
        "import re\n",
        "import gc\n",
        "import datetime\n",
        "\n",
        "def read_config_file(filepath):\n",
        "  with open(filepath, 'r') as stream:\n",
        "    try:\n",
        "      return yaml.safe_load(stream)\n",
        "    except yaml.YAMLerror as exc:\n",
        "      logging.error(exc)\n",
        "\n",
        "def replacer(string, char):\n",
        "    pattern = char + '{2,}'\n",
        "    string = re.sub(pattern, char, string) \n",
        "    return string\n",
        "\n",
        "def col_header_val(df, table_config):\n",
        "  df.columns=df.columns.str.lower()\n",
        "  df.columns=df.columns.str.replace('[^\\w]','_',regex=True)\n",
        "  df.columns = list(map(lambda x: x.strip('_'), list(df.columns)))\n",
        "  df.columns = list(map(lambda x: replacer(x,'_'), list(df.columns)))\n",
        "  expected_col = list(map(lambda x: x.lower(), table_config['columns']))\n",
        "  expected_col.sort()\n",
        "  df.columns = list(map(lambda x: x.lower(), list(df.columns)))\n",
        "  df=df.reindex(sorted(df.columns), axis=1)\n",
        "  if len(df.columns) == len(expected_col) and list(expected_col) == list(df.columns):\n",
        "    print(\"Column name and column length validation passed\")\n",
        "    return 1\n",
        "  else:\n",
        "    print(\"Column name and column length validation failed\")\n",
        "    mismatched_columns_file = list(set(df.columns).difference(expected_col))\n",
        "    print(\"Following file columns are not in the YAML file\", mismatched_columns_file)\n",
        "    missing_YAML_file = list(set(expected_col).difference(df.columns))\n",
        "    print(\"Following YAML columns are not in the file uploaded\", missing_YAML_file)\n",
        "    logging.info(f'df columns: {df.columns}')\n",
        "    logging.info(f'expected columns: {expected_col}')\n",
        "    return 0"
      ],
      "metadata": {
        "id": "ilf89sD9Ud4_",
        "colab": {
          "base_uri": "https://localhost:8080/"
        },
        "outputId": "522253d0-729c-42de-a71c-f6d16f406f88"
      },
      "execution_count": null,
      "outputs": [
        {
          "output_type": "stream",
          "name": "stdout",
          "text": [
            "Writing utility.py\n"
          ]
        }
      ]
    },
    {
      "cell_type": "code",
      "source": [
        "%%writefile store.yaml\n",
        "file_type: csv\n",
        "dataset_name: testfile\n",
        "file_name: price_paid_records\n",
        "table_name: endsurv\n",
        "inbound_delimiter: ','\n",
        "outbound_delimiter: '|'\n",
        "skip_leading_rows: 1\n",
        "columns:\n",
        "  - transaction_unique_identifier\n",
        "  - price\n",
        "  - date_of_transfer\n",
        "  - property_type\n",
        "  - old_new\n",
        "  - duration\n",
        "  - town_city\n",
        "  - district\n",
        "  - county\n",
        "  - ppdcategory_type\n",
        "  - record_status_monthly_file_only"
      ],
      "metadata": {
        "id": "WwX-9PXfmWLB",
        "colab": {
          "base_uri": "https://localhost:8080/"
        },
        "outputId": "7889ab5b-a47e-4157-f463-007f12de4d64"
      },
      "execution_count": null,
      "outputs": [
        {
          "output_type": "stream",
          "name": "stdout",
          "text": [
            "Writing store.yaml\n"
          ]
        }
      ]
    },
    {
      "cell_type": "code",
      "source": [
        "# Read config file\n",
        "\n",
        "import utility as util\n",
        "config_data = util.read_config_file(\"store.yaml\")"
      ],
      "metadata": {
        "id": "-RA8Ys0zrDoy"
      },
      "execution_count": null,
      "outputs": []
    },
    {
      "cell_type": "code",
      "source": [
        "config_data['inbound_delimiter']"
      ],
      "metadata": {
        "colab": {
          "base_uri": "https://localhost:8080/",
          "height": 35
        },
        "id": "iWhtVjFirO7k",
        "outputId": "aa9c41fc-ae6d-44cb-966c-f919f45baf3a"
      },
      "execution_count": null,
      "outputs": [
        {
          "output_type": "execute_result",
          "data": {
            "text/plain": [
              "','"
            ],
            "application/vnd.google.colaboratory.intrinsic+json": {
              "type": "string"
            }
          },
          "metadata": {},
          "execution_count": 8
        }
      ]
    },
    {
      "cell_type": "code",
      "source": [
        "#data of the config file\n",
        "config_data"
      ],
      "metadata": {
        "colab": {
          "base_uri": "https://localhost:8080/"
        },
        "id": "WxOlPTpdrbK-",
        "outputId": "4f52e151-66a5-42d7-9778-29c85d694cdd"
      },
      "execution_count": null,
      "outputs": [
        {
          "output_type": "execute_result",
          "data": {
            "text/plain": [
              "{'columns': ['transaction_unique_identifier',\n",
              "  'price',\n",
              "  'date_of_transfer',\n",
              "  'property_type',\n",
              "  'old_new',\n",
              "  'duration',\n",
              "  'town_city',\n",
              "  'district',\n",
              "  'county',\n",
              "  'ppdcategory_type',\n",
              "  'record_status_monthly_file_only'],\n",
              " 'dataset_name': 'testfile',\n",
              " 'file_name': 'price_paid_records',\n",
              " 'file_type': 'csv',\n",
              " 'inbound_delimiter': ',',\n",
              " 'outbound_delimiter': '|',\n",
              " 'skip_leading_rows': 1,\n",
              " 'table_name': 'endsurv'}"
            ]
          },
          "metadata": {},
          "execution_count": 9
        }
      ]
    },
    {
      "cell_type": "code",
      "source": [
        "#Read the file using config file\n",
        "file_type = config_data['file_type']\n",
        "source_file = \"drive/My Drive/Colab Notebooks/\" + config_data['file_name'] + f'.{file_type}'\n",
        "df = pd.read_csv(source_file,config_data['inbound_delimiter'])\n",
        "df.head()"
      ],
      "metadata": {
        "colab": {
          "base_uri": "https://localhost:8080/",
          "height": 652
        },
        "id": "umkPDnv0xECp",
        "outputId": "59d25aac-8f20-46ae-d532-ed57d8e993da"
      },
      "execution_count": null,
      "outputs": [
        {
          "output_type": "stream",
          "name": "stderr",
          "text": [
            "/usr/local/lib/python3.7/dist-packages/IPython/core/interactiveshell.py:2882: FutureWarning: In a future version of pandas all arguments of read_csv except for the argument 'filepath_or_buffer' will be keyword-only\n",
            "  exec(code_obj, self.user_global_ns, self.user_ns)\n"
          ]
        },
        {
          "output_type": "execute_result",
          "data": {
            "text/plain": [
              "            Transaction unique identifier  Price  Date of Transfer  \\\n",
              "0  {81B82214-7FBC-4129-9F6B-4956B4A663AD}  25000  1995-08-18 00:00   \n",
              "1  {8046EC72-1466-42D6-A753-4956BF7CD8A2}  42500  1995-08-09 00:00   \n",
              "2  {278D581A-5BF3-4FCE-AF62-4956D87691E6}  45000  1995-06-30 00:00   \n",
              "3  {1D861C06-A416-4865-973C-4956DB12CD12}  43150  1995-11-24 00:00   \n",
              "4  {DD8645FD-A815-43A6-A7BA-4956E58F1874}  18899  1995-06-23 00:00   \n",
              "\n",
              "  Property Type Old/New Duration   Town/City            District  \\\n",
              "0             T       N        F      OLDHAM              OLDHAM   \n",
              "1             S       N        F       GRAYS            THURROCK   \n",
              "2             T       N        F  HIGHBRIDGE           SEDGEMOOR   \n",
              "3             T       N        F     BEDFORD  NORTH BEDFORDSHIRE   \n",
              "4             S       N        F   WAKEFIELD               LEEDS   \n",
              "\n",
              "               County PPDCategory Type Record Status - monthly file only  \n",
              "0  GREATER MANCHESTER                A                                 A  \n",
              "1            THURROCK                A                                 A  \n",
              "2            SOMERSET                A                                 A  \n",
              "3        BEDFORDSHIRE                A                                 A  \n",
              "4      WEST YORKSHIRE                A                                 A  "
            ],
            "text/html": [
              "\n",
              "  <div id=\"df-6932b323-2b93-4056-9167-89ba2f4d1de5\">\n",
              "    <div class=\"colab-df-container\">\n",
              "      <div>\n",
              "<style scoped>\n",
              "    .dataframe tbody tr th:only-of-type {\n",
              "        vertical-align: middle;\n",
              "    }\n",
              "\n",
              "    .dataframe tbody tr th {\n",
              "        vertical-align: top;\n",
              "    }\n",
              "\n",
              "    .dataframe thead th {\n",
              "        text-align: right;\n",
              "    }\n",
              "</style>\n",
              "<table border=\"1\" class=\"dataframe\">\n",
              "  <thead>\n",
              "    <tr style=\"text-align: right;\">\n",
              "      <th></th>\n",
              "      <th>Transaction unique identifier</th>\n",
              "      <th>Price</th>\n",
              "      <th>Date of Transfer</th>\n",
              "      <th>Property Type</th>\n",
              "      <th>Old/New</th>\n",
              "      <th>Duration</th>\n",
              "      <th>Town/City</th>\n",
              "      <th>District</th>\n",
              "      <th>County</th>\n",
              "      <th>PPDCategory Type</th>\n",
              "      <th>Record Status - monthly file only</th>\n",
              "    </tr>\n",
              "  </thead>\n",
              "  <tbody>\n",
              "    <tr>\n",
              "      <th>0</th>\n",
              "      <td>{81B82214-7FBC-4129-9F6B-4956B4A663AD}</td>\n",
              "      <td>25000</td>\n",
              "      <td>1995-08-18 00:00</td>\n",
              "      <td>T</td>\n",
              "      <td>N</td>\n",
              "      <td>F</td>\n",
              "      <td>OLDHAM</td>\n",
              "      <td>OLDHAM</td>\n",
              "      <td>GREATER MANCHESTER</td>\n",
              "      <td>A</td>\n",
              "      <td>A</td>\n",
              "    </tr>\n",
              "    <tr>\n",
              "      <th>1</th>\n",
              "      <td>{8046EC72-1466-42D6-A753-4956BF7CD8A2}</td>\n",
              "      <td>42500</td>\n",
              "      <td>1995-08-09 00:00</td>\n",
              "      <td>S</td>\n",
              "      <td>N</td>\n",
              "      <td>F</td>\n",
              "      <td>GRAYS</td>\n",
              "      <td>THURROCK</td>\n",
              "      <td>THURROCK</td>\n",
              "      <td>A</td>\n",
              "      <td>A</td>\n",
              "    </tr>\n",
              "    <tr>\n",
              "      <th>2</th>\n",
              "      <td>{278D581A-5BF3-4FCE-AF62-4956D87691E6}</td>\n",
              "      <td>45000</td>\n",
              "      <td>1995-06-30 00:00</td>\n",
              "      <td>T</td>\n",
              "      <td>N</td>\n",
              "      <td>F</td>\n",
              "      <td>HIGHBRIDGE</td>\n",
              "      <td>SEDGEMOOR</td>\n",
              "      <td>SOMERSET</td>\n",
              "      <td>A</td>\n",
              "      <td>A</td>\n",
              "    </tr>\n",
              "    <tr>\n",
              "      <th>3</th>\n",
              "      <td>{1D861C06-A416-4865-973C-4956DB12CD12}</td>\n",
              "      <td>43150</td>\n",
              "      <td>1995-11-24 00:00</td>\n",
              "      <td>T</td>\n",
              "      <td>N</td>\n",
              "      <td>F</td>\n",
              "      <td>BEDFORD</td>\n",
              "      <td>NORTH BEDFORDSHIRE</td>\n",
              "      <td>BEDFORDSHIRE</td>\n",
              "      <td>A</td>\n",
              "      <td>A</td>\n",
              "    </tr>\n",
              "    <tr>\n",
              "      <th>4</th>\n",
              "      <td>{DD8645FD-A815-43A6-A7BA-4956E58F1874}</td>\n",
              "      <td>18899</td>\n",
              "      <td>1995-06-23 00:00</td>\n",
              "      <td>S</td>\n",
              "      <td>N</td>\n",
              "      <td>F</td>\n",
              "      <td>WAKEFIELD</td>\n",
              "      <td>LEEDS</td>\n",
              "      <td>WEST YORKSHIRE</td>\n",
              "      <td>A</td>\n",
              "      <td>A</td>\n",
              "    </tr>\n",
              "  </tbody>\n",
              "</table>\n",
              "</div>\n",
              "      <button class=\"colab-df-convert\" onclick=\"convertToInteractive('df-6932b323-2b93-4056-9167-89ba2f4d1de5')\"\n",
              "              title=\"Convert this dataframe to an interactive table.\"\n",
              "              style=\"display:none;\">\n",
              "        \n",
              "  <svg xmlns=\"http://www.w3.org/2000/svg\" height=\"24px\"viewBox=\"0 0 24 24\"\n",
              "       width=\"24px\">\n",
              "    <path d=\"M0 0h24v24H0V0z\" fill=\"none\"/>\n",
              "    <path d=\"M18.56 5.44l.94 2.06.94-2.06 2.06-.94-2.06-.94-.94-2.06-.94 2.06-2.06.94zm-11 1L8.5 8.5l.94-2.06 2.06-.94-2.06-.94L8.5 2.5l-.94 2.06-2.06.94zm10 10l.94 2.06.94-2.06 2.06-.94-2.06-.94-.94-2.06-.94 2.06-2.06.94z\"/><path d=\"M17.41 7.96l-1.37-1.37c-.4-.4-.92-.59-1.43-.59-.52 0-1.04.2-1.43.59L10.3 9.45l-7.72 7.72c-.78.78-.78 2.05 0 2.83L4 21.41c.39.39.9.59 1.41.59.51 0 1.02-.2 1.41-.59l7.78-7.78 2.81-2.81c.8-.78.8-2.07 0-2.86zM5.41 20L4 18.59l7.72-7.72 1.47 1.35L5.41 20z\"/>\n",
              "  </svg>\n",
              "      </button>\n",
              "      \n",
              "  <style>\n",
              "    .colab-df-container {\n",
              "      display:flex;\n",
              "      flex-wrap:wrap;\n",
              "      gap: 12px;\n",
              "    }\n",
              "\n",
              "    .colab-df-convert {\n",
              "      background-color: #E8F0FE;\n",
              "      border: none;\n",
              "      border-radius: 50%;\n",
              "      cursor: pointer;\n",
              "      display: none;\n",
              "      fill: #1967D2;\n",
              "      height: 32px;\n",
              "      padding: 0 0 0 0;\n",
              "      width: 32px;\n",
              "    }\n",
              "\n",
              "    .colab-df-convert:hover {\n",
              "      background-color: #E2EBFA;\n",
              "      box-shadow: 0px 1px 2px rgba(60, 64, 67, 0.3), 0px 1px 3px 1px rgba(60, 64, 67, 0.15);\n",
              "      fill: #174EA6;\n",
              "    }\n",
              "\n",
              "    [theme=dark] .colab-df-convert {\n",
              "      background-color: #3B4455;\n",
              "      fill: #D2E3FC;\n",
              "    }\n",
              "\n",
              "    [theme=dark] .colab-df-convert:hover {\n",
              "      background-color: #434B5C;\n",
              "      box-shadow: 0px 1px 3px 1px rgba(0, 0, 0, 0.15);\n",
              "      filter: drop-shadow(0px 1px 2px rgba(0, 0, 0, 0.3));\n",
              "      fill: #FFFFFF;\n",
              "    }\n",
              "  </style>\n",
              "\n",
              "      <script>\n",
              "        const buttonEl =\n",
              "          document.querySelector('#df-6932b323-2b93-4056-9167-89ba2f4d1de5 button.colab-df-convert');\n",
              "        buttonEl.style.display =\n",
              "          google.colab.kernel.accessAllowed ? 'block' : 'none';\n",
              "\n",
              "        async function convertToInteractive(key) {\n",
              "          const element = document.querySelector('#df-6932b323-2b93-4056-9167-89ba2f4d1de5');\n",
              "          const dataTable =\n",
              "            await google.colab.kernel.invokeFunction('convertToInteractive',\n",
              "                                                     [key], {});\n",
              "          if (!dataTable) return;\n",
              "\n",
              "          const docLinkHtml = 'Like what you see? Visit the ' +\n",
              "            '<a target=\"_blank\" href=https://colab.research.google.com/notebooks/data_table.ipynb>data table notebook</a>'\n",
              "            + ' to learn more about interactive tables.';\n",
              "          element.innerHTML = '';\n",
              "          dataTable['output_type'] = 'display_data';\n",
              "          await google.colab.output.renderOutput(dataTable, element);\n",
              "          const docLink = document.createElement('div');\n",
              "          docLink.innerHTML = docLinkHtml;\n",
              "          element.appendChild(docLink);\n",
              "        }\n",
              "      </script>\n",
              "    </div>\n",
              "  </div>\n",
              "  "
            ]
          },
          "metadata": {},
          "execution_count": 10
        }
      ]
    },
    {
      "cell_type": "code",
      "source": [
        "#Validate the Header of the file\n",
        "util.col_header_val(df,config_data)"
      ],
      "metadata": {
        "colab": {
          "base_uri": "https://localhost:8080/"
        },
        "id": "Wvz41vuvxqIl",
        "outputId": "c46ce946-112e-460b-95c8-2f0674ab1580"
      },
      "execution_count": null,
      "outputs": [
        {
          "output_type": "stream",
          "name": "stdout",
          "text": [
            "Column name and column length validation passed\n"
          ]
        },
        {
          "output_type": "execute_result",
          "data": {
            "text/plain": [
              "1"
            ]
          },
          "metadata": {},
          "execution_count": 11
        }
      ]
    },
    {
      "cell_type": "code",
      "source": [
        "print(\"Columns of files are:\" , df.columns)\n",
        "print(\"Columns of YAML are:\" , config_data['columns'])"
      ],
      "metadata": {
        "colab": {
          "base_uri": "https://localhost:8080/"
        },
        "id": "JALkqVsIxp66",
        "outputId": "ea8ac8a2-3a39-44d4-8b3c-3679d55d9c39"
      },
      "execution_count": null,
      "outputs": [
        {
          "output_type": "stream",
          "name": "stdout",
          "text": [
            "Columns of files are: Index(['transaction_unique_identifier', 'price', 'date_of_transfer',\n",
            "       'property_type', 'old_new', 'duration', 'town_city', 'district',\n",
            "       'county', 'ppdcategory_type', 'record_status_monthly_file_only'],\n",
            "      dtype='object')\n",
            "Columns of YAML are: ['transaction_unique_identifier', 'price', 'date_of_transfer', 'property_type', 'old_new', 'duration', 'town_city', 'district', 'county', 'ppdcategory_type', 'record_status_monthly_file_only']\n"
          ]
        }
      ]
    },
    {
      "cell_type": "code",
      "source": [
        "if util.col_header_val(df,config_data)==0:\n",
        "    print(\"Validation failed\")\n",
        "    print(\"Columns of the file does not match the YAML\")\n",
        "else:\n",
        "    print(\"Column validation passed\")\n",
        "    print('Preview of the data\\n', df.head())"
      ],
      "metadata": {
        "colab": {
          "base_uri": "https://localhost:8080/"
        },
        "id": "3TB4tgvdyFvm",
        "outputId": "da368899-68b0-4c75-e224-17a374a62379"
      },
      "execution_count": null,
      "outputs": [
        {
          "output_type": "stream",
          "name": "stdout",
          "text": [
            "Column name and column length validation passed\n",
            "Column validation passed\n",
            "Preview of the data\n",
            "             transaction_unique_identifier  price  date_of_transfer  \\\n",
            "0  {81B82214-7FBC-4129-9F6B-4956B4A663AD}  25000  1995-08-18 00:00   \n",
            "1  {8046EC72-1466-42D6-A753-4956BF7CD8A2}  42500  1995-08-09 00:00   \n",
            "2  {278D581A-5BF3-4FCE-AF62-4956D87691E6}  45000  1995-06-30 00:00   \n",
            "3  {1D861C06-A416-4865-973C-4956DB12CD12}  43150  1995-11-24 00:00   \n",
            "4  {DD8645FD-A815-43A6-A7BA-4956E58F1874}  18899  1995-06-23 00:00   \n",
            "\n",
            "  property_type old_new duration   town_city            district  \\\n",
            "0             T       N        F      OLDHAM              OLDHAM   \n",
            "1             S       N        F       GRAYS            THURROCK   \n",
            "2             T       N        F  HIGHBRIDGE           SEDGEMOOR   \n",
            "3             T       N        F     BEDFORD  NORTH BEDFORDSHIRE   \n",
            "4             S       N        F   WAKEFIELD               LEEDS   \n",
            "\n",
            "               county ppdcategory_type record_status_monthly_file_only  \n",
            "0  GREATER MANCHESTER                A                               A  \n",
            "1            THURROCK                A                               A  \n",
            "2            SOMERSET                A                               A  \n",
            "3        BEDFORDSHIRE                A                               A  \n",
            "4      WEST YORKSHIRE                A                               A  \n"
          ]
        }
      ]
    },
    {
      "cell_type": "markdown",
      "source": [
        "# **Save pipe separated file as .gz**"
      ],
      "metadata": {
        "id": "2o2RHaPPV1by"
      }
    },
    {
      "cell_type": "code",
      "source": [
        "#csv to gz\n",
        "\n",
        "import gzip\n",
        "import csv\n",
        "\n",
        "df.to_csv('dfgz.csv.gz',\n",
        "      sep='|',\n",
        "      header=True,\n",
        "      index=False,\n",
        "      quoting=csv.QUOTE_ALL,\n",
        "      compression='gzip',\n",
        "      quotechar='\"',\n",
        "      doublequote=True,\n",
        "      line_terminator='\\n')"
      ],
      "metadata": {
        "colab": {
          "base_uri": "https://localhost:8080/",
          "height": 276
        },
        "id": "7OjQrk3SVwOh",
        "outputId": "b213eba3-c90f-45b4-b480-c23996c67d69"
      },
      "execution_count": null,
      "outputs": [
        {
          "output_type": "error",
          "ename": "KeyboardInterrupt",
          "evalue": "ignored",
          "traceback": [
            "\u001b[0;31m---------------------------------------------------------------------------\u001b[0m",
            "\u001b[0;31mKeyboardInterrupt\u001b[0m                         Traceback (most recent call last)",
            "\u001b[0;32m<ipython-input-22-ad8cafbf3e16>\u001b[0m in \u001b[0;36m<module>\u001b[0;34m()\u001b[0m\n\u001b[1;32m     12\u001b[0m       \u001b[0mquotechar\u001b[0m\u001b[0;34m=\u001b[0m\u001b[0;34m'\"'\u001b[0m\u001b[0;34m,\u001b[0m\u001b[0;34m\u001b[0m\u001b[0;34m\u001b[0m\u001b[0m\n\u001b[1;32m     13\u001b[0m       \u001b[0mdoublequote\u001b[0m\u001b[0;34m=\u001b[0m\u001b[0;32mTrue\u001b[0m\u001b[0;34m,\u001b[0m\u001b[0;34m\u001b[0m\u001b[0;34m\u001b[0m\u001b[0m\n\u001b[0;32m---> 14\u001b[0;31m       line_terminator='\\n')\n\u001b[0m",
            "\u001b[0;32m/usr/local/lib/python3.7/dist-packages/pandas/core/generic.py\u001b[0m in \u001b[0;36mto_csv\u001b[0;34m(self, path_or_buf, sep, na_rep, float_format, columns, header, index, index_label, mode, encoding, compression, quoting, quotechar, line_terminator, chunksize, date_format, doublequote, escapechar, decimal, errors, storage_options)\u001b[0m\n\u001b[1;32m   3480\u001b[0m             \u001b[0mdoublequote\u001b[0m\u001b[0;34m=\u001b[0m\u001b[0mdoublequote\u001b[0m\u001b[0;34m,\u001b[0m\u001b[0;34m\u001b[0m\u001b[0;34m\u001b[0m\u001b[0m\n\u001b[1;32m   3481\u001b[0m             \u001b[0mescapechar\u001b[0m\u001b[0;34m=\u001b[0m\u001b[0mescapechar\u001b[0m\u001b[0;34m,\u001b[0m\u001b[0;34m\u001b[0m\u001b[0;34m\u001b[0m\u001b[0m\n\u001b[0;32m-> 3482\u001b[0;31m             \u001b[0mstorage_options\u001b[0m\u001b[0;34m=\u001b[0m\u001b[0mstorage_options\u001b[0m\u001b[0;34m,\u001b[0m\u001b[0;34m\u001b[0m\u001b[0;34m\u001b[0m\u001b[0m\n\u001b[0m\u001b[1;32m   3483\u001b[0m         )\n\u001b[1;32m   3484\u001b[0m \u001b[0;34m\u001b[0m\u001b[0m\n",
            "\u001b[0;32m/usr/local/lib/python3.7/dist-packages/pandas/io/formats/format.py\u001b[0m in \u001b[0;36mto_csv\u001b[0;34m(self, path_or_buf, encoding, sep, columns, index_label, mode, compression, quoting, quotechar, line_terminator, chunksize, date_format, doublequote, escapechar, errors, storage_options)\u001b[0m\n\u001b[1;32m   1103\u001b[0m             \u001b[0mformatter\u001b[0m\u001b[0;34m=\u001b[0m\u001b[0mself\u001b[0m\u001b[0;34m.\u001b[0m\u001b[0mfmt\u001b[0m\u001b[0;34m,\u001b[0m\u001b[0;34m\u001b[0m\u001b[0;34m\u001b[0m\u001b[0m\n\u001b[1;32m   1104\u001b[0m         )\n\u001b[0;32m-> 1105\u001b[0;31m         \u001b[0mcsv_formatter\u001b[0m\u001b[0;34m.\u001b[0m\u001b[0msave\u001b[0m\u001b[0;34m(\u001b[0m\u001b[0;34m)\u001b[0m\u001b[0;34m\u001b[0m\u001b[0;34m\u001b[0m\u001b[0m\n\u001b[0m\u001b[1;32m   1106\u001b[0m \u001b[0;34m\u001b[0m\u001b[0m\n\u001b[1;32m   1107\u001b[0m         \u001b[0;32mif\u001b[0m \u001b[0mcreated_buffer\u001b[0m\u001b[0;34m:\u001b[0m\u001b[0;34m\u001b[0m\u001b[0;34m\u001b[0m\u001b[0m\n",
            "\u001b[0;32m/usr/local/lib/python3.7/dist-packages/pandas/io/formats/csvs.py\u001b[0m in \u001b[0;36msave\u001b[0;34m(self)\u001b[0m\n\u001b[1;32m    255\u001b[0m             )\n\u001b[1;32m    256\u001b[0m \u001b[0;34m\u001b[0m\u001b[0m\n\u001b[0;32m--> 257\u001b[0;31m             \u001b[0mself\u001b[0m\u001b[0;34m.\u001b[0m\u001b[0m_save\u001b[0m\u001b[0;34m(\u001b[0m\u001b[0;34m)\u001b[0m\u001b[0;34m\u001b[0m\u001b[0;34m\u001b[0m\u001b[0m\n\u001b[0m\u001b[1;32m    258\u001b[0m \u001b[0;34m\u001b[0m\u001b[0m\n\u001b[1;32m    259\u001b[0m     \u001b[0;32mdef\u001b[0m \u001b[0m_save\u001b[0m\u001b[0;34m(\u001b[0m\u001b[0mself\u001b[0m\u001b[0;34m)\u001b[0m \u001b[0;34m->\u001b[0m \u001b[0;32mNone\u001b[0m\u001b[0;34m:\u001b[0m\u001b[0;34m\u001b[0m\u001b[0;34m\u001b[0m\u001b[0m\n",
            "\u001b[0;32m/usr/local/lib/python3.7/dist-packages/pandas/io/formats/csvs.py\u001b[0m in \u001b[0;36m_save\u001b[0;34m(self)\u001b[0m\n\u001b[1;32m    260\u001b[0m         \u001b[0;32mif\u001b[0m \u001b[0mself\u001b[0m\u001b[0;34m.\u001b[0m\u001b[0m_need_to_save_header\u001b[0m\u001b[0;34m:\u001b[0m\u001b[0;34m\u001b[0m\u001b[0;34m\u001b[0m\u001b[0m\n\u001b[1;32m    261\u001b[0m             \u001b[0mself\u001b[0m\u001b[0;34m.\u001b[0m\u001b[0m_save_header\u001b[0m\u001b[0;34m(\u001b[0m\u001b[0;34m)\u001b[0m\u001b[0;34m\u001b[0m\u001b[0;34m\u001b[0m\u001b[0m\n\u001b[0;32m--> 262\u001b[0;31m         \u001b[0mself\u001b[0m\u001b[0;34m.\u001b[0m\u001b[0m_save_body\u001b[0m\u001b[0;34m(\u001b[0m\u001b[0;34m)\u001b[0m\u001b[0;34m\u001b[0m\u001b[0;34m\u001b[0m\u001b[0m\n\u001b[0m\u001b[1;32m    263\u001b[0m \u001b[0;34m\u001b[0m\u001b[0m\n\u001b[1;32m    264\u001b[0m     \u001b[0;32mdef\u001b[0m \u001b[0m_save_header\u001b[0m\u001b[0;34m(\u001b[0m\u001b[0mself\u001b[0m\u001b[0;34m)\u001b[0m \u001b[0;34m->\u001b[0m \u001b[0;32mNone\u001b[0m\u001b[0;34m:\u001b[0m\u001b[0;34m\u001b[0m\u001b[0;34m\u001b[0m\u001b[0m\n",
            "\u001b[0;32m/usr/local/lib/python3.7/dist-packages/pandas/io/formats/csvs.py\u001b[0m in \u001b[0;36m_save_body\u001b[0;34m(self)\u001b[0m\n\u001b[1;32m    298\u001b[0m             \u001b[0;32mif\u001b[0m \u001b[0mstart_i\u001b[0m \u001b[0;34m>=\u001b[0m \u001b[0mend_i\u001b[0m\u001b[0;34m:\u001b[0m\u001b[0;34m\u001b[0m\u001b[0;34m\u001b[0m\u001b[0m\n\u001b[1;32m    299\u001b[0m                 \u001b[0;32mbreak\u001b[0m\u001b[0;34m\u001b[0m\u001b[0;34m\u001b[0m\u001b[0m\n\u001b[0;32m--> 300\u001b[0;31m             \u001b[0mself\u001b[0m\u001b[0;34m.\u001b[0m\u001b[0m_save_chunk\u001b[0m\u001b[0;34m(\u001b[0m\u001b[0mstart_i\u001b[0m\u001b[0;34m,\u001b[0m \u001b[0mend_i\u001b[0m\u001b[0;34m)\u001b[0m\u001b[0;34m\u001b[0m\u001b[0;34m\u001b[0m\u001b[0m\n\u001b[0m\u001b[1;32m    301\u001b[0m \u001b[0;34m\u001b[0m\u001b[0m\n\u001b[1;32m    302\u001b[0m     \u001b[0;32mdef\u001b[0m \u001b[0m_save_chunk\u001b[0m\u001b[0;34m(\u001b[0m\u001b[0mself\u001b[0m\u001b[0;34m,\u001b[0m \u001b[0mstart_i\u001b[0m\u001b[0;34m:\u001b[0m \u001b[0mint\u001b[0m\u001b[0;34m,\u001b[0m \u001b[0mend_i\u001b[0m\u001b[0;34m:\u001b[0m \u001b[0mint\u001b[0m\u001b[0;34m)\u001b[0m \u001b[0;34m->\u001b[0m \u001b[0;32mNone\u001b[0m\u001b[0;34m:\u001b[0m\u001b[0;34m\u001b[0m\u001b[0;34m\u001b[0m\u001b[0m\n",
            "\u001b[0;32m/usr/local/lib/python3.7/dist-packages/pandas/io/formats/csvs.py\u001b[0m in \u001b[0;36m_save_chunk\u001b[0;34m(self, start_i, end_i)\u001b[0m\n\u001b[1;32m    314\u001b[0m             \u001b[0mself\u001b[0m\u001b[0;34m.\u001b[0m\u001b[0mnlevels\u001b[0m\u001b[0;34m,\u001b[0m\u001b[0;34m\u001b[0m\u001b[0;34m\u001b[0m\u001b[0m\n\u001b[1;32m    315\u001b[0m             \u001b[0mself\u001b[0m\u001b[0;34m.\u001b[0m\u001b[0mcols\u001b[0m\u001b[0;34m,\u001b[0m\u001b[0;34m\u001b[0m\u001b[0;34m\u001b[0m\u001b[0m\n\u001b[0;32m--> 316\u001b[0;31m             \u001b[0mself\u001b[0m\u001b[0;34m.\u001b[0m\u001b[0mwriter\u001b[0m\u001b[0;34m,\u001b[0m\u001b[0;34m\u001b[0m\u001b[0;34m\u001b[0m\u001b[0m\n\u001b[0m\u001b[1;32m    317\u001b[0m         )\n",
            "\u001b[0;32m/usr/local/lib/python3.7/dist-packages/pandas/_libs/writers.pyx\u001b[0m in \u001b[0;36mpandas._libs.writers.write_csv_rows\u001b[0;34m()\u001b[0m\n",
            "\u001b[0;31mKeyboardInterrupt\u001b[0m: "
          ]
        }
      ]
    },
    {
      "cell_type": "code",
      "source": [
        "# Number of cols in the gz file\n",
        "import os\n",
        "entries = os.listdir('./dfgz.csv.gz')\n",
        "for entry in entries:\n",
        "    print(entry)"
      ],
      "metadata": {
        "colab": {
          "base_uri": "https://localhost:8080/",
          "height": 235
        },
        "id": "BW9kdyKNYloW",
        "outputId": "c6a0ac21-42ba-43fd-d4f9-136775ceec45"
      },
      "execution_count": null,
      "outputs": [
        {
          "output_type": "error",
          "ename": "NotADirectoryError",
          "evalue": "ignored",
          "traceback": [
            "\u001b[0;31m---------------------------------------------------------------------------\u001b[0m",
            "\u001b[0;31mNotADirectoryError\u001b[0m                        Traceback (most recent call last)",
            "\u001b[0;32m<ipython-input-24-61ccc2971d92>\u001b[0m in \u001b[0;36m<module>\u001b[0;34m()\u001b[0m\n\u001b[1;32m      1\u001b[0m \u001b[0;31m# Number of cols in the gz file\u001b[0m\u001b[0;34m\u001b[0m\u001b[0;34m\u001b[0m\u001b[0;34m\u001b[0m\u001b[0m\n\u001b[1;32m      2\u001b[0m \u001b[0;32mimport\u001b[0m \u001b[0mos\u001b[0m\u001b[0;34m\u001b[0m\u001b[0;34m\u001b[0m\u001b[0m\n\u001b[0;32m----> 3\u001b[0;31m \u001b[0mentries\u001b[0m \u001b[0;34m=\u001b[0m \u001b[0mos\u001b[0m\u001b[0;34m.\u001b[0m\u001b[0mlistdir\u001b[0m\u001b[0;34m(\u001b[0m\u001b[0;34m'./dfgz.csv.gz'\u001b[0m\u001b[0;34m)\u001b[0m\u001b[0;34m\u001b[0m\u001b[0;34m\u001b[0m\u001b[0m\n\u001b[0m\u001b[1;32m      4\u001b[0m \u001b[0;32mfor\u001b[0m \u001b[0mentry\u001b[0m \u001b[0;32min\u001b[0m \u001b[0mentries\u001b[0m\u001b[0;34m:\u001b[0m\u001b[0;34m\u001b[0m\u001b[0;34m\u001b[0m\u001b[0m\n\u001b[1;32m      5\u001b[0m     \u001b[0mprint\u001b[0m\u001b[0;34m(\u001b[0m\u001b[0mentry\u001b[0m\u001b[0;34m)\u001b[0m\u001b[0;34m\u001b[0m\u001b[0;34m\u001b[0m\u001b[0m\n",
            "\u001b[0;31mNotADirectoryError\u001b[0m: [Errno 20] Not a directory: './dfgz.csv.gz'"
          ]
        }
      ]
    },
    {
      "cell_type": "markdown",
      "source": [
        ""
      ],
      "metadata": {
        "id": "4t4hkDJv5U2W"
      }
    },
    {
      "cell_type": "markdown",
      "source": [
        "# **Summary of the File**"
      ],
      "metadata": {
        "id": "pMgVmsot31SB"
      }
    },
    {
      "cell_type": "code",
      "source": [
        "#Size of the CSV file\n",
        "\n",
        "import os\n",
        "data=dd.read_csv(csvfile)\n",
        "print('Size of the CSV file: ', str(os.path.getsize(csvfile), 'Bytes'))"
      ],
      "metadata": {
        "colab": {
          "base_uri": "https://localhost:8080/"
        },
        "id": "tDrvCOLCIh4X",
        "outputId": "89ac0a4f-aaf8-4f45-b8fe-7dc60096e8ae"
      },
      "execution_count": null,
      "outputs": [
        {
          "output_type": "stream",
          "name": "stdout",
          "text": [
            "            Transaction unique identifier  Price  Date of Transfer  \\\n",
            "0  {81B82214-7FBC-4129-9F6B-4956B4A663AD}  25000  1995-08-18 00:00   \n",
            "1  {8046EC72-1466-42D6-A753-4956BF7CD8A2}  42500  1995-08-09 00:00   \n",
            "2  {278D581A-5BF3-4FCE-AF62-4956D87691E6}  45000  1995-06-30 00:00   \n",
            "3  {1D861C06-A416-4865-973C-4956DB12CD12}  43150  1995-11-24 00:00   \n",
            "4  {DD8645FD-A815-43A6-A7BA-4956E58F1874}  18899  1995-06-23 00:00   \n",
            "\n",
            "  Property Type Old/New Duration   Town/City            District  \\\n",
            "0             T       N        F      OLDHAM              OLDHAM   \n",
            "1             S       N        F       GRAYS            THURROCK   \n",
            "2             T       N        F  HIGHBRIDGE           SEDGEMOOR   \n",
            "3             T       N        F     BEDFORD  NORTH BEDFORDSHIRE   \n",
            "4             S       N        F   WAKEFIELD               LEEDS   \n",
            "\n",
            "               County PPDCategory Type Record Status - monthly file only  \n",
            "0  GREATER MANCHESTER                A                                 A  \n",
            "1            THURROCK                A                                 A  \n",
            "2            SOMERSET                A                                 A  \n",
            "3        BEDFORDSHIRE                A                                 A  \n",
            "4      WEST YORKSHIRE                A                                 A  \n",
            "(Delayed('int-e1a8501a-2bdd-4d06-a211-bdb9889a4320'), 11)\n",
            "<bound method DataFrame.info of Dask DataFrame Structure:\n",
            "               Transaction unique identifier  Price Date of Transfer Property Type Old/New Duration Town/City District  County PPDCategory Type Record Status - monthly file only\n",
            "npartitions=38                                                                                                                                                                   \n",
            "                                      object  int64           object        object  object   object    object   object  object           object                            object\n",
            "                                         ...    ...              ...           ...     ...      ...       ...      ...     ...              ...                               ...\n",
            "...                                      ...    ...              ...           ...     ...      ...       ...      ...     ...              ...                               ...\n",
            "                                         ...    ...              ...           ...     ...      ...       ...      ...     ...              ...                               ...\n",
            "                                         ...    ...              ...           ...     ...      ...       ...      ...     ...              ...                               ...\n",
            "Dask Name: from-delayed, 114 tasks>\n",
            "<bound method _Frame.describe of Dask DataFrame Structure:\n",
            "               Transaction unique identifier  Price Date of Transfer Property Type Old/New Duration Town/City District  County PPDCategory Type Record Status - monthly file only\n",
            "npartitions=38                                                                                                                                                                   \n",
            "                                      object  int64           object        object  object   object    object   object  object           object                            object\n",
            "                                         ...    ...              ...           ...     ...      ...       ...      ...     ...              ...                               ...\n",
            "...                                      ...    ...              ...           ...     ...      ...       ...      ...     ...              ...                               ...\n",
            "                                         ...    ...              ...           ...     ...      ...       ...      ...     ...              ...                               ...\n",
            "                                         ...    ...              ...           ...     ...      ...       ...      ...     ...              ...                               ...\n",
            "Dask Name: from-delayed, 114 tasks>\n"
          ]
        }
      ]
    },
    {
      "cell_type": "code",
      "source": [
        "#Number of rows/cols\n",
        "print('Number of Rows: ',len(df.rows))\n",
        "print('Number of columns:', len(df.columns))"
      ],
      "metadata": {
        "id": "eUrEpLGFG5MQ"
      },
      "execution_count": null,
      "outputs": []
    }
  ],
  "metadata": {
    "colab": {
      "name": "Week 6.ipynb",
      "provenance": [],
      "collapsed_sections": [
        "2o2RHaPPV1by"
      ]
    },
    "kernelspec": {
      "display_name": "Python 3",
      "name": "python3"
    },
    "language_info": {
      "name": "python"
    }
  },
  "nbformat": 4,
  "nbformat_minor": 0
}
