{
  "cells": [
    {
      "cell_type": "code",
      "source": [
        "!pip install modin\n",
        "!pip install ray\n",
        "!pip install dask"
      ],
      "metadata": {
        "id": "TzIKN8aDGOVJ",
        "colab": {
          "base_uri": "https://localhost:8080/"
        },
        "outputId": "a48950a3-ca3d-48fa-aff3-f33abcbeed38"
      },
      "execution_count": 7,
      "outputs": [
        {
          "output_type": "stream",
          "name": "stdout",
          "text": [
            "Looking in indexes: https://pypi.org/simple, https://us-python.pkg.dev/colab-wheels/public/simple/\n",
            "Requirement already satisfied: modin in /usr/local/lib/python3.7/dist-packages (0.12.1)\n",
            "Requirement already satisfied: pandas==1.3.5 in /usr/local/lib/python3.7/dist-packages (from modin) (1.3.5)\n",
            "Requirement already satisfied: fsspec in /usr/local/lib/python3.7/dist-packages (from modin) (2022.5.0)\n",
            "Requirement already satisfied: numpy>=1.16.5 in /usr/local/lib/python3.7/dist-packages (from modin) (1.21.6)\n",
            "Requirement already satisfied: packaging in /usr/local/lib/python3.7/dist-packages (from modin) (21.3)\n",
            "Requirement already satisfied: python-dateutil>=2.7.3 in /usr/local/lib/python3.7/dist-packages (from pandas==1.3.5->modin) (2.8.2)\n",
            "Requirement already satisfied: pytz>=2017.3 in /usr/local/lib/python3.7/dist-packages (from pandas==1.3.5->modin) (2022.1)\n",
            "Requirement already satisfied: six>=1.5 in /usr/local/lib/python3.7/dist-packages (from python-dateutil>=2.7.3->pandas==1.3.5->modin) (1.15.0)\n",
            "Requirement already satisfied: pyparsing!=3.0.5,>=2.0.2 in /usr/local/lib/python3.7/dist-packages (from packaging->modin) (3.0.9)\n",
            "Looking in indexes: https://pypi.org/simple, https://us-python.pkg.dev/colab-wheels/public/simple/\n",
            "Requirement already satisfied: ray in /usr/local/lib/python3.7/dist-packages (1.13.0)\n",
            "Requirement already satisfied: jsonschema in /usr/local/lib/python3.7/dist-packages (from ray) (4.3.3)\n",
            "Requirement already satisfied: click<=8.0.4,>=7.0 in /usr/local/lib/python3.7/dist-packages (from ray) (7.1.2)\n",
            "Requirement already satisfied: grpcio<=1.43.0,>=1.28.1 in /usr/local/lib/python3.7/dist-packages (from ray) (1.43.0)\n",
            "Requirement already satisfied: requests in /usr/local/lib/python3.7/dist-packages (from ray) (2.23.0)\n",
            "Requirement already satisfied: filelock in /usr/local/lib/python3.7/dist-packages (from ray) (3.7.1)\n",
            "Requirement already satisfied: numpy>=1.16 in /usr/local/lib/python3.7/dist-packages (from ray) (1.21.6)\n",
            "Requirement already satisfied: aiosignal in /usr/local/lib/python3.7/dist-packages (from ray) (1.2.0)\n",
            "Requirement already satisfied: attrs in /usr/local/lib/python3.7/dist-packages (from ray) (21.4.0)\n",
            "Requirement already satisfied: pyyaml in /usr/local/lib/python3.7/dist-packages (from ray) (3.13)\n",
            "Requirement already satisfied: protobuf<4.0.0,>=3.15.3 in /usr/local/lib/python3.7/dist-packages (from ray) (3.17.3)\n",
            "Requirement already satisfied: frozenlist in /usr/local/lib/python3.7/dist-packages (from ray) (1.3.0)\n",
            "Requirement already satisfied: virtualenv in /usr/local/lib/python3.7/dist-packages (from ray) (20.15.1)\n",
            "Requirement already satisfied: msgpack<2.0.0,>=1.0.0 in /usr/local/lib/python3.7/dist-packages (from ray) (1.0.4)\n",
            "Requirement already satisfied: six>=1.5.2 in /usr/local/lib/python3.7/dist-packages (from grpcio<=1.43.0,>=1.28.1->ray) (1.15.0)\n",
            "Requirement already satisfied: pyrsistent!=0.17.0,!=0.17.1,!=0.17.2,>=0.14.0 in /usr/local/lib/python3.7/dist-packages (from jsonschema->ray) (0.18.1)\n",
            "Requirement already satisfied: typing-extensions in /usr/local/lib/python3.7/dist-packages (from jsonschema->ray) (4.1.1)\n",
            "Requirement already satisfied: importlib-metadata in /usr/local/lib/python3.7/dist-packages (from jsonschema->ray) (4.11.4)\n",
            "Requirement already satisfied: importlib-resources>=1.4.0 in /usr/local/lib/python3.7/dist-packages (from jsonschema->ray) (5.7.1)\n",
            "Requirement already satisfied: zipp>=3.1.0 in /usr/local/lib/python3.7/dist-packages (from importlib-resources>=1.4.0->jsonschema->ray) (3.8.0)\n",
            "Requirement already satisfied: certifi>=2017.4.17 in /usr/local/lib/python3.7/dist-packages (from requests->ray) (2022.6.15)\n",
            "Requirement already satisfied: chardet<4,>=3.0.2 in /usr/local/lib/python3.7/dist-packages (from requests->ray) (3.0.4)\n",
            "Requirement already satisfied: idna<3,>=2.5 in /usr/local/lib/python3.7/dist-packages (from requests->ray) (2.10)\n",
            "Requirement already satisfied: urllib3!=1.25.0,!=1.25.1,<1.26,>=1.21.1 in /usr/local/lib/python3.7/dist-packages (from requests->ray) (1.24.3)\n",
            "Requirement already satisfied: distlib<1,>=0.3.1 in /usr/local/lib/python3.7/dist-packages (from virtualenv->ray) (0.3.4)\n",
            "Requirement already satisfied: platformdirs<3,>=2 in /usr/local/lib/python3.7/dist-packages (from virtualenv->ray) (2.5.2)\n",
            "Looking in indexes: https://pypi.org/simple, https://us-python.pkg.dev/colab-wheels/public/simple/\n",
            "Requirement already satisfied: dask in /usr/local/lib/python3.7/dist-packages (2.12.0)\n"
          ]
        }
      ]
    },
    {
      "cell_type": "code",
      "source": [
        "#Download dataset from Kaggle\n",
        "!pip install -q kaggle\n",
        "!mkdir ~/.kaggle\n",
        "!cp kaggle.json ~/.kaggle/\n",
        "!chmod 600 ~/.kaggle/kaggle.json\n",
        "!kaggle datasets download -d hm-land-registry/uk-housing-prices-paid\n",
        "!unzip uk-housing-prices-paid.zip"
      ],
      "metadata": {
        "colab": {
          "base_uri": "https://localhost:8080/"
        },
        "id": "o2LdxykUQjy1",
        "outputId": "04c424af-c44a-4327-b6fb-47132102ba23"
      },
      "execution_count": 10,
      "outputs": [
        {
          "output_type": "stream",
          "name": "stdout",
          "text": [
            "mkdir: cannot create directory ‘/root/.kaggle’: File exists\n",
            "uk-housing-prices-paid.zip: Skipping, found more recently modified local copy (use --force to force download)\n",
            "Archive:  uk-housing-prices-paid.zip\n",
            "  inflating: price_paid_records.csv  \n"
          ]
        }
      ]
    },
    {
      "cell_type": "markdown",
      "source": [
        "# **Read CSV with Pandas, Dask, Modin/Ray**"
      ],
      "metadata": {
        "id": "je-RQjir3CaA"
      }
    },
    {
      "cell_type": "code",
      "execution_count": 2,
      "metadata": {
        "id": "sVQ44xGeEovC"
      },
      "outputs": [],
      "source": [
        "import pandas as pd\n",
        "import dask.dataframe as dd\n",
        "import modin.pandas as mpd\n",
        "import ray\n",
        "import time"
      ]
    },
    {
      "cell_type": "code",
      "source": [
        "csvfile='/content/price_paid_records.csv'"
      ],
      "metadata": {
        "id": "1OHYK62Cgtgm"
      },
      "execution_count": 3,
      "outputs": []
    },
    {
      "cell_type": "code",
      "source": [
        "#Pandas to read the CSV\n",
        "\n",
        "start = time.time()\n",
        "df=pd.read_csv(csvfile)\n",
        "end = time.time()\n",
        "print('Time to read the CSV (pandas): ',end - start, 'seconds')"
      ],
      "metadata": {
        "id": "-HqDtmK-hcJo",
        "colab": {
          "base_uri": "https://localhost:8080/"
        },
        "outputId": "c44a8fac-d078-437d-bd27-b088ab09fd20"
      },
      "execution_count": 5,
      "outputs": [
        {
          "output_type": "stream",
          "name": "stdout",
          "text": [
            "Time to read the CSV (pandas):  55.602303981781006 seconds\n"
          ]
        }
      ]
    },
    {
      "cell_type": "code",
      "source": [
        "#Modin/Ray to read the CSV\n",
        "\n",
        "start = time.time()\n",
        "ray.shutdown()\n",
        "ray.init()\n",
        "mpd.read_csv(csvfile)\n",
        "end = time.time()\n",
        "print('Time to read the CSV (modin/ray): ',end - start, 'seconds')"
      ],
      "metadata": {
        "colab": {
          "base_uri": "https://localhost:8080/"
        },
        "id": "ZZYBoBKtFBOI",
        "outputId": "2cf5b9bc-0b54-40d6-80c1-0c8af9a2900f"
      },
      "execution_count": 4,
      "outputs": [
        {
          "output_type": "stream",
          "name": "stderr",
          "text": [
            "\u001b[2m\u001b[36m(deploy_ray_func pid=3340)\u001b[0m tcmalloc: large alloc 1202847744 bytes == 0x3724000 @  0x7f08490ae1e7 0x4a3940 0x5b438c 0x5d0ccd 0x5939af 0x516337 0x549576 0x593fce 0x548ae9 0x51566f 0x549576 0x4bca8a 0x5134a6 0x549576 0x4bca8a 0x5134a6 0x4bc98a 0x7f0845d87e02 0x7f0845e1bdb6 0x7f0845d8e306 0x7f0845f026ab 0x7f0845e6388f 0x7f0845f2a7d3 0x7f0845f2b72a 0x7f0845f3d18e 0x7f0845f16530 0x7f084613af06 0x7f08460e7a3e 0x7f08460e7c96 0x7f084657ecab 0x7f084657fee1\n",
            "\u001b[2m\u001b[36m(deploy_ray_func pid=3341)\u001b[0m tcmalloc: large alloc 1202847744 bytes == 0x42a0000 @  0x7f9e18a1e1e7 0x4a3940 0x5b438c 0x5d0ccd 0x5939af 0x516337 0x549576 0x593fce 0x548ae9 0x51566f 0x549576 0x4bca8a 0x5134a6 0x549576 0x4bca8a 0x5134a6 0x4bc98a 0x7f9e156f7e02 0x7f9e1578bdb6 0x7f9e156fe306 0x7f9e158726ab 0x7f9e157d388f 0x7f9e1589a7d3 0x7f9e1589b72a 0x7f9e158ad18e 0x7f9e15886530 0x7f9e15aaaf06 0x7f9e15a57a3e 0x7f9e15a57c96 0x7f9e15eeecab 0x7f9e15eefee1\n"
          ]
        },
        {
          "output_type": "stream",
          "name": "stdout",
          "text": [
            "Time to read the CSV (modin/ray):  97.11903548240662 seconds\n"
          ]
        }
      ]
    },
    {
      "cell_type": "code",
      "source": [
        "#Dask to read the CSV\n",
        "\n",
        "start = time.time()\n",
        "dd.read_csv(csvfile)\n",
        "end = time.time()\n",
        "print('Time to read the CSV (dask): ',end - start, 'seconds')"
      ],
      "metadata": {
        "id": "_EMxpe0uGc3j",
        "colab": {
          "base_uri": "https://localhost:8080/"
        },
        "outputId": "fe54a80a-74af-4aad-e826-93fe26d31c8a"
      },
      "execution_count": 5,
      "outputs": [
        {
          "output_type": "stream",
          "name": "stdout",
          "text": [
            "Time to read the CSV (dask):  0.06782817840576172 seconds\n"
          ]
        }
      ]
    },
    {
      "cell_type": "markdown",
      "source": [
        "**Dask took the least time reading the CSV file!**\n"
      ],
      "metadata": {
        "id": "e_rIbh9o3c7a"
      }
    },
    {
      "cell_type": "markdown",
      "source": [
        "# **Clean the Column Names**"
      ],
      "metadata": {
        "id": "KOKiH4O5H2S9"
      }
    },
    {
      "cell_type": "code",
      "source": [
        "# Remove spaces and special chars from the cols\n",
        "\n",
        "data=dd.read_csv(csvfile)\n",
        "\n",
        "data.columns=data.columns.str.lower()\n",
        "data.columns = data.columns.str.replace(' ', '')\n",
        "data.columns=data.columns.str.replace('[^\\w]','_',regex=True)\n",
        "print(data.columns)"
      ],
      "metadata": {
        "colab": {
          "base_uri": "https://localhost:8080/"
        },
        "id": "LtLjn3jVHjrZ",
        "outputId": "14b48eec-83b3-401d-a7cb-cfaf9318add5"
      },
      "execution_count": 6,
      "outputs": [
        {
          "output_type": "stream",
          "name": "stdout",
          "text": [
            "Index(['transactionuniqueidentifier', 'price', 'dateoftransfer',\n",
            "       'propertytype', 'old_new', 'duration', 'town_city', 'district',\n",
            "       'county', 'ppdcategorytype', 'recordstatus_monthlyfileonly'],\n",
            "      dtype='object')\n"
          ]
        }
      ]
    },
    {
      "cell_type": "markdown",
      "source": [
        "# **Validation**\n",
        "\n"
      ],
      "metadata": {
        "id": "sy7UVJjFFRA4"
      }
    },
    {
      "cell_type": "code",
      "source": [
        "%%writefile utility.py\n",
        "import yaml\n",
        "import logging\n",
        "import os\n",
        "import subprocess\n",
        "import pandas as pd\n",
        "import re\n",
        "import gc\n",
        "import datetime\n",
        "\n",
        "def read_config_file(filepath):\n",
        "  with open(filepath, 'r') as stream:\n",
        "    try:\n",
        "      return yaml.safe_load(stream)\n",
        "    except yaml.YAMLerror as exc:\n",
        "      logging.error(exc)\n",
        "\n",
        "def replacer(string, char):\n",
        "    pattern = char + '{2,}'\n",
        "    string = re.sub(pattern, char, string) \n",
        "    return string\n",
        "\n",
        "def col_header_val(df, table_config):\n",
        "  df.columns=df.columns.str.lower()\n",
        "  df.columns=df.columns.str.replace('[^\\w]','_',regex=True)\n",
        "  df.columns = list(map(lambda x: x.strip('_'), list(df.columns)))\n",
        "  df.columns = list(map(lambda x: replacer(x,'_'), list(df.columns)))\n",
        "  expected_col = list(map(lambda x: x.lower(), table_config['columns']))\n",
        "  expected_col.sort()\n",
        "  df.columns = list(map(lambda x: x.lower(), list(df.columns)))\n",
        "  df=df.reindex(sorted(df.columns), axis=1)\n",
        "  if len(df.columns) == len(expected_col) and list(expected_col) == list(df.columns):\n",
        "    print(\"Column name and column length validation passed\")\n",
        "    return 1\n",
        "  else:\n",
        "    print(\"Column name and column length validation failed\")\n",
        "    mismatched_columns_file = list(set(df.columns).difference(expected_col))\n",
        "    print(\"Following file columns are not in the YAML file\", mismatched_columns_file)\n",
        "    missing_YAML_file = list(set(expected_col).difference(df.columns))\n",
        "    print(\"Following YAML columns are not in the file uploaded\", missing_YAML_file)\n",
        "    logging.info(f'df columns: {df.columns}')\n",
        "    logging.info(f'expected columns: {expected_col}')\n",
        "    return 0"
      ],
      "metadata": {
        "id": "ilf89sD9Ud4_",
        "colab": {
          "base_uri": "https://localhost:8080/"
        },
        "outputId": "1c152746-7318-4f0e-d6e6-626eae3b4667"
      },
      "execution_count": 7,
      "outputs": [
        {
          "output_type": "stream",
          "name": "stdout",
          "text": [
            "Overwriting utility.py\n"
          ]
        }
      ]
    },
    {
      "cell_type": "code",
      "source": [
        "%%writefile store.yaml\n",
        "file_type: csv\n",
        "dataset_name: testfile\n",
        "file_name: price_paid_records\n",
        "table_name: endsurv\n",
        "inbound_delimiter: ','\n",
        "outbound_delimiter: '|'\n",
        "skip_leading_rows: 1\n",
        "columns:\n",
        "  - transaction_unique_identifier\n",
        "  - price\n",
        "  - date_of_transfer\n",
        "  - property_type\n",
        "  - old_new\n",
        "  - duration\n",
        "  - town_city\n",
        "  - district\n",
        "  - county\n",
        "  - ppdcategory_type\n",
        "  - record_status_monthly_file_only"
      ],
      "metadata": {
        "id": "WwX-9PXfmWLB",
        "colab": {
          "base_uri": "https://localhost:8080/"
        },
        "outputId": "96d26ab6-0fef-45c0-a73f-6b31fccddae3"
      },
      "execution_count": 8,
      "outputs": [
        {
          "output_type": "stream",
          "name": "stdout",
          "text": [
            "Overwriting store.yaml\n"
          ]
        }
      ]
    },
    {
      "cell_type": "code",
      "source": [
        "# Read config file\n",
        "\n",
        "import utility as util\n",
        "config_data = util.read_config_file(\"store.yaml\")"
      ],
      "metadata": {
        "id": "-RA8Ys0zrDoy"
      },
      "execution_count": 9,
      "outputs": []
    },
    {
      "cell_type": "code",
      "source": [
        "config_data['inbound_delimiter']"
      ],
      "metadata": {
        "colab": {
          "base_uri": "https://localhost:8080/",
          "height": 35
        },
        "id": "iWhtVjFirO7k",
        "outputId": "42796bb9-c1f0-4322-d7e5-ff48c4b03b75"
      },
      "execution_count": 10,
      "outputs": [
        {
          "output_type": "execute_result",
          "data": {
            "text/plain": [
              "','"
            ],
            "application/vnd.google.colaboratory.intrinsic+json": {
              "type": "string"
            }
          },
          "metadata": {},
          "execution_count": 10
        }
      ]
    },
    {
      "cell_type": "code",
      "source": [
        "#data of the config file\n",
        "config_data"
      ],
      "metadata": {
        "colab": {
          "base_uri": "https://localhost:8080/"
        },
        "id": "WxOlPTpdrbK-",
        "outputId": "f7e21738-41d2-4d4e-bc40-dc1dffa4393f"
      },
      "execution_count": 11,
      "outputs": [
        {
          "output_type": "execute_result",
          "data": {
            "text/plain": [
              "{'columns': ['transaction_unique_identifier',\n",
              "  'price',\n",
              "  'date_of_transfer',\n",
              "  'property_type',\n",
              "  'old_new',\n",
              "  'duration',\n",
              "  'town_city',\n",
              "  'district',\n",
              "  'county',\n",
              "  'ppdcategory_type',\n",
              "  'record_status_monthly_file_only'],\n",
              " 'dataset_name': 'testfile',\n",
              " 'file_name': 'price_paid_records',\n",
              " 'file_type': 'csv',\n",
              " 'inbound_delimiter': ',',\n",
              " 'outbound_delimiter': '|',\n",
              " 'skip_leading_rows': 1,\n",
              " 'table_name': 'endsurv'}"
            ]
          },
          "metadata": {},
          "execution_count": 11
        }
      ]
    },
    {
      "cell_type": "code",
      "source": [
        "#Read the file using config file\n",
        "file_type = config_data['file_type']\n",
        "source_file = \"/content/\" + config_data['file_name'] + f'.{file_type}'\n",
        "df = pd.read_csv(source_file,config_data['inbound_delimiter'])\n",
        "df.head()"
      ],
      "metadata": {
        "colab": {
          "base_uri": "https://localhost:8080/",
          "height": 635
        },
        "id": "umkPDnv0xECp",
        "outputId": "bbe87742-2508-4715-bdc6-2e980d21db39"
      },
      "execution_count": 12,
      "outputs": [
        {
          "output_type": "stream",
          "name": "stderr",
          "text": [
            "FutureWarning: In a future version of pandas all arguments of read_csv except for the argument 'filepath_or_buffer' will be keyword-only\n"
          ]
        },
        {
          "output_type": "execute_result",
          "data": {
            "text/plain": [
              "            Transaction unique identifier  Price  Date of Transfer  \\\n",
              "0  {81B82214-7FBC-4129-9F6B-4956B4A663AD}  25000  1995-08-18 00:00   \n",
              "1  {8046EC72-1466-42D6-A753-4956BF7CD8A2}  42500  1995-08-09 00:00   \n",
              "2  {278D581A-5BF3-4FCE-AF62-4956D87691E6}  45000  1995-06-30 00:00   \n",
              "3  {1D861C06-A416-4865-973C-4956DB12CD12}  43150  1995-11-24 00:00   \n",
              "4  {DD8645FD-A815-43A6-A7BA-4956E58F1874}  18899  1995-06-23 00:00   \n",
              "\n",
              "  Property Type Old/New Duration   Town/City            District  \\\n",
              "0             T       N        F      OLDHAM              OLDHAM   \n",
              "1             S       N        F       GRAYS            THURROCK   \n",
              "2             T       N        F  HIGHBRIDGE           SEDGEMOOR   \n",
              "3             T       N        F     BEDFORD  NORTH BEDFORDSHIRE   \n",
              "4             S       N        F   WAKEFIELD               LEEDS   \n",
              "\n",
              "               County PPDCategory Type Record Status - monthly file only  \n",
              "0  GREATER MANCHESTER                A                                 A  \n",
              "1            THURROCK                A                                 A  \n",
              "2            SOMERSET                A                                 A  \n",
              "3        BEDFORDSHIRE                A                                 A  \n",
              "4      WEST YORKSHIRE                A                                 A  "
            ],
            "text/html": [
              "\n",
              "  <div id=\"df-66fa64e1-682e-421a-a23c-d447834349a1\">\n",
              "    <div class=\"colab-df-container\">\n",
              "      <div>\n",
              "<style scoped>\n",
              "    .dataframe tbody tr th:only-of-type {\n",
              "        vertical-align: middle;\n",
              "    }\n",
              "\n",
              "    .dataframe tbody tr th {\n",
              "        vertical-align: top;\n",
              "    }\n",
              "\n",
              "    .dataframe thead th {\n",
              "        text-align: right;\n",
              "    }\n",
              "</style>\n",
              "<table border=\"1\" class=\"dataframe\">\n",
              "  <thead>\n",
              "    <tr style=\"text-align: right;\">\n",
              "      <th></th>\n",
              "      <th>Transaction unique identifier</th>\n",
              "      <th>Price</th>\n",
              "      <th>Date of Transfer</th>\n",
              "      <th>Property Type</th>\n",
              "      <th>Old/New</th>\n",
              "      <th>Duration</th>\n",
              "      <th>Town/City</th>\n",
              "      <th>District</th>\n",
              "      <th>County</th>\n",
              "      <th>PPDCategory Type</th>\n",
              "      <th>Record Status - monthly file only</th>\n",
              "    </tr>\n",
              "  </thead>\n",
              "  <tbody>\n",
              "    <tr>\n",
              "      <th>0</th>\n",
              "      <td>{81B82214-7FBC-4129-9F6B-4956B4A663AD}</td>\n",
              "      <td>25000</td>\n",
              "      <td>1995-08-18 00:00</td>\n",
              "      <td>T</td>\n",
              "      <td>N</td>\n",
              "      <td>F</td>\n",
              "      <td>OLDHAM</td>\n",
              "      <td>OLDHAM</td>\n",
              "      <td>GREATER MANCHESTER</td>\n",
              "      <td>A</td>\n",
              "      <td>A</td>\n",
              "    </tr>\n",
              "    <tr>\n",
              "      <th>1</th>\n",
              "      <td>{8046EC72-1466-42D6-A753-4956BF7CD8A2}</td>\n",
              "      <td>42500</td>\n",
              "      <td>1995-08-09 00:00</td>\n",
              "      <td>S</td>\n",
              "      <td>N</td>\n",
              "      <td>F</td>\n",
              "      <td>GRAYS</td>\n",
              "      <td>THURROCK</td>\n",
              "      <td>THURROCK</td>\n",
              "      <td>A</td>\n",
              "      <td>A</td>\n",
              "    </tr>\n",
              "    <tr>\n",
              "      <th>2</th>\n",
              "      <td>{278D581A-5BF3-4FCE-AF62-4956D87691E6}</td>\n",
              "      <td>45000</td>\n",
              "      <td>1995-06-30 00:00</td>\n",
              "      <td>T</td>\n",
              "      <td>N</td>\n",
              "      <td>F</td>\n",
              "      <td>HIGHBRIDGE</td>\n",
              "      <td>SEDGEMOOR</td>\n",
              "      <td>SOMERSET</td>\n",
              "      <td>A</td>\n",
              "      <td>A</td>\n",
              "    </tr>\n",
              "    <tr>\n",
              "      <th>3</th>\n",
              "      <td>{1D861C06-A416-4865-973C-4956DB12CD12}</td>\n",
              "      <td>43150</td>\n",
              "      <td>1995-11-24 00:00</td>\n",
              "      <td>T</td>\n",
              "      <td>N</td>\n",
              "      <td>F</td>\n",
              "      <td>BEDFORD</td>\n",
              "      <td>NORTH BEDFORDSHIRE</td>\n",
              "      <td>BEDFORDSHIRE</td>\n",
              "      <td>A</td>\n",
              "      <td>A</td>\n",
              "    </tr>\n",
              "    <tr>\n",
              "      <th>4</th>\n",
              "      <td>{DD8645FD-A815-43A6-A7BA-4956E58F1874}</td>\n",
              "      <td>18899</td>\n",
              "      <td>1995-06-23 00:00</td>\n",
              "      <td>S</td>\n",
              "      <td>N</td>\n",
              "      <td>F</td>\n",
              "      <td>WAKEFIELD</td>\n",
              "      <td>LEEDS</td>\n",
              "      <td>WEST YORKSHIRE</td>\n",
              "      <td>A</td>\n",
              "      <td>A</td>\n",
              "    </tr>\n",
              "  </tbody>\n",
              "</table>\n",
              "</div>\n",
              "      <button class=\"colab-df-convert\" onclick=\"convertToInteractive('df-66fa64e1-682e-421a-a23c-d447834349a1')\"\n",
              "              title=\"Convert this dataframe to an interactive table.\"\n",
              "              style=\"display:none;\">\n",
              "        \n",
              "  <svg xmlns=\"http://www.w3.org/2000/svg\" height=\"24px\"viewBox=\"0 0 24 24\"\n",
              "       width=\"24px\">\n",
              "    <path d=\"M0 0h24v24H0V0z\" fill=\"none\"/>\n",
              "    <path d=\"M18.56 5.44l.94 2.06.94-2.06 2.06-.94-2.06-.94-.94-2.06-.94 2.06-2.06.94zm-11 1L8.5 8.5l.94-2.06 2.06-.94-2.06-.94L8.5 2.5l-.94 2.06-2.06.94zm10 10l.94 2.06.94-2.06 2.06-.94-2.06-.94-.94-2.06-.94 2.06-2.06.94z\"/><path d=\"M17.41 7.96l-1.37-1.37c-.4-.4-.92-.59-1.43-.59-.52 0-1.04.2-1.43.59L10.3 9.45l-7.72 7.72c-.78.78-.78 2.05 0 2.83L4 21.41c.39.39.9.59 1.41.59.51 0 1.02-.2 1.41-.59l7.78-7.78 2.81-2.81c.8-.78.8-2.07 0-2.86zM5.41 20L4 18.59l7.72-7.72 1.47 1.35L5.41 20z\"/>\n",
              "  </svg>\n",
              "      </button>\n",
              "      \n",
              "  <style>\n",
              "    .colab-df-container {\n",
              "      display:flex;\n",
              "      flex-wrap:wrap;\n",
              "      gap: 12px;\n",
              "    }\n",
              "\n",
              "    .colab-df-convert {\n",
              "      background-color: #E8F0FE;\n",
              "      border: none;\n",
              "      border-radius: 50%;\n",
              "      cursor: pointer;\n",
              "      display: none;\n",
              "      fill: #1967D2;\n",
              "      height: 32px;\n",
              "      padding: 0 0 0 0;\n",
              "      width: 32px;\n",
              "    }\n",
              "\n",
              "    .colab-df-convert:hover {\n",
              "      background-color: #E2EBFA;\n",
              "      box-shadow: 0px 1px 2px rgba(60, 64, 67, 0.3), 0px 1px 3px 1px rgba(60, 64, 67, 0.15);\n",
              "      fill: #174EA6;\n",
              "    }\n",
              "\n",
              "    [theme=dark] .colab-df-convert {\n",
              "      background-color: #3B4455;\n",
              "      fill: #D2E3FC;\n",
              "    }\n",
              "\n",
              "    [theme=dark] .colab-df-convert:hover {\n",
              "      background-color: #434B5C;\n",
              "      box-shadow: 0px 1px 3px 1px rgba(0, 0, 0, 0.15);\n",
              "      filter: drop-shadow(0px 1px 2px rgba(0, 0, 0, 0.3));\n",
              "      fill: #FFFFFF;\n",
              "    }\n",
              "  </style>\n",
              "\n",
              "      <script>\n",
              "        const buttonEl =\n",
              "          document.querySelector('#df-66fa64e1-682e-421a-a23c-d447834349a1 button.colab-df-convert');\n",
              "        buttonEl.style.display =\n",
              "          google.colab.kernel.accessAllowed ? 'block' : 'none';\n",
              "\n",
              "        async function convertToInteractive(key) {\n",
              "          const element = document.querySelector('#df-66fa64e1-682e-421a-a23c-d447834349a1');\n",
              "          const dataTable =\n",
              "            await google.colab.kernel.invokeFunction('convertToInteractive',\n",
              "                                                     [key], {});\n",
              "          if (!dataTable) return;\n",
              "\n",
              "          const docLinkHtml = 'Like what you see? Visit the ' +\n",
              "            '<a target=\"_blank\" href=https://colab.research.google.com/notebooks/data_table.ipynb>data table notebook</a>'\n",
              "            + ' to learn more about interactive tables.';\n",
              "          element.innerHTML = '';\n",
              "          dataTable['output_type'] = 'display_data';\n",
              "          await google.colab.output.renderOutput(dataTable, element);\n",
              "          const docLink = document.createElement('div');\n",
              "          docLink.innerHTML = docLinkHtml;\n",
              "          element.appendChild(docLink);\n",
              "        }\n",
              "      </script>\n",
              "    </div>\n",
              "  </div>\n",
              "  "
            ]
          },
          "metadata": {},
          "execution_count": 12
        }
      ]
    },
    {
      "cell_type": "code",
      "source": [
        "#Validate the Header of the file\n",
        "util.col_header_val(df,config_data)"
      ],
      "metadata": {
        "colab": {
          "base_uri": "https://localhost:8080/"
        },
        "id": "Wvz41vuvxqIl",
        "outputId": "c224f653-8e6c-4bac-bf89-73c6866863e6"
      },
      "execution_count": 13,
      "outputs": [
        {
          "output_type": "stream",
          "name": "stdout",
          "text": [
            "Column name and column length validation passed\n"
          ]
        },
        {
          "output_type": "execute_result",
          "data": {
            "text/plain": [
              "1"
            ]
          },
          "metadata": {},
          "execution_count": 13
        }
      ]
    },
    {
      "cell_type": "code",
      "source": [
        "print(\"Columns of files are:\" , df.columns)\n",
        "print(\"Columns of YAML are:\" , config_data['columns'])"
      ],
      "metadata": {
        "colab": {
          "base_uri": "https://localhost:8080/"
        },
        "id": "JALkqVsIxp66",
        "outputId": "1d314811-a4fb-4f9e-bdbd-c64c4d4e761e"
      },
      "execution_count": 14,
      "outputs": [
        {
          "output_type": "stream",
          "name": "stdout",
          "text": [
            "Columns of files are: Index(['transaction_unique_identifier', 'price', 'date_of_transfer',\n",
            "       'property_type', 'old_new', 'duration', 'town_city', 'district',\n",
            "       'county', 'ppdcategory_type', 'record_status_monthly_file_only'],\n",
            "      dtype='object')\n",
            "Columns of YAML are: ['transaction_unique_identifier', 'price', 'date_of_transfer', 'property_type', 'old_new', 'duration', 'town_city', 'district', 'county', 'ppdcategory_type', 'record_status_monthly_file_only']\n"
          ]
        }
      ]
    },
    {
      "cell_type": "code",
      "source": [
        "if util.col_header_val(df,config_data)==0:\n",
        "    print(\"Validation failed\")\n",
        "    print(\"Columns of the file does not match the YAML\")\n",
        "else:\n",
        "    print(\"Column validation passed\")\n",
        "    print('Preview of the data\\n', df.head())"
      ],
      "metadata": {
        "colab": {
          "base_uri": "https://localhost:8080/"
        },
        "id": "3TB4tgvdyFvm",
        "outputId": "b71351e6-a4b3-4575-d9f0-7e32d02e2851"
      },
      "execution_count": 15,
      "outputs": [
        {
          "output_type": "stream",
          "name": "stdout",
          "text": [
            "Column name and column length validation passed\n",
            "Column validation passed\n",
            "Preview of the data\n",
            "             transaction_unique_identifier  price  date_of_transfer  \\\n",
            "0  {81B82214-7FBC-4129-9F6B-4956B4A663AD}  25000  1995-08-18 00:00   \n",
            "1  {8046EC72-1466-42D6-A753-4956BF7CD8A2}  42500  1995-08-09 00:00   \n",
            "2  {278D581A-5BF3-4FCE-AF62-4956D87691E6}  45000  1995-06-30 00:00   \n",
            "3  {1D861C06-A416-4865-973C-4956DB12CD12}  43150  1995-11-24 00:00   \n",
            "4  {DD8645FD-A815-43A6-A7BA-4956E58F1874}  18899  1995-06-23 00:00   \n",
            "\n",
            "  property_type old_new duration   town_city            district  \\\n",
            "0             T       N        F      OLDHAM              OLDHAM   \n",
            "1             S       N        F       GRAYS            THURROCK   \n",
            "2             T       N        F  HIGHBRIDGE           SEDGEMOOR   \n",
            "3             T       N        F     BEDFORD  NORTH BEDFORDSHIRE   \n",
            "4             S       N        F   WAKEFIELD               LEEDS   \n",
            "\n",
            "               county ppdcategory_type record_status_monthly_file_only  \n",
            "0  GREATER MANCHESTER                A                               A  \n",
            "1            THURROCK                A                               A  \n",
            "2            SOMERSET                A                               A  \n",
            "3        BEDFORDSHIRE                A                               A  \n",
            "4      WEST YORKSHIRE                A                               A  \n"
          ]
        }
      ]
    },
    {
      "cell_type": "markdown",
      "source": [
        "# **Save pipe separated file as .gz**"
      ],
      "metadata": {
        "id": "2o2RHaPPV1by"
      }
    },
    {
      "cell_type": "code",
      "source": [
        "#csv to gz\n",
        "\n",
        "import gzip\n",
        "import csv\n",
        "\n",
        "df.to_csv('dfgz.gz',\n",
        "      sep='|',\n",
        "      header=True,\n",
        "      index=False,\n",
        "      quoting=csv.QUOTE_ALL,\n",
        "      compression='gzip',\n",
        "      quotechar='\"',\n",
        "      doublequote=True,\n",
        "      line_terminator='\\n')"
      ],
      "metadata": {
        "id": "7OjQrk3SVwOh"
      },
      "execution_count": 17,
      "outputs": []
    },
    {
      "cell_type": "markdown",
      "source": [
        "# **Summary of the File**"
      ],
      "metadata": {
        "id": "pMgVmsot31SB"
      }
    },
    {
      "cell_type": "code",
      "source": [
        "#Size of the CSV file\n",
        "\n",
        "import os\n",
        "print(str(os.path.getsize(csvfile)))"
      ],
      "metadata": {
        "colab": {
          "base_uri": "https://localhost:8080/"
        },
        "id": "tDrvCOLCIh4X",
        "outputId": "c3782d1a-e3d2-4786-f1b8-2b49a7cce934"
      },
      "execution_count": 17,
      "outputs": [
        {
          "output_type": "stream",
          "name": "stdout",
          "text": [
            "2405685902\n"
          ]
        }
      ]
    },
    {
      "cell_type": "code",
      "source": [
        "#Number of rows/cols\n",
        "print('Number of Rows: ',len(df.index))\n",
        "print('Number of columns:', len(df.columns))"
      ],
      "metadata": {
        "colab": {
          "base_uri": "https://localhost:8080/"
        },
        "id": "eUrEpLGFG5MQ",
        "outputId": "5d77b02e-87ce-4df9-f1b2-c75bb301c43f"
      },
      "execution_count": 18,
      "outputs": [
        {
          "output_type": "stream",
          "name": "stdout",
          "text": [
            "Number of Rows:  22489348\n",
            "Number of columns: 11\n"
          ]
        }
      ]
    }
  ],
  "metadata": {
    "colab": {
      "name": "Week 6.ipynb",
      "provenance": [],
      "collapsed_sections": [
        "2o2RHaPPV1by"
      ]
    },
    "kernelspec": {
      "display_name": "Python 3",
      "name": "python3"
    },
    "language_info": {
      "name": "python"
    }
  },
  "nbformat": 4,
  "nbformat_minor": 0
}