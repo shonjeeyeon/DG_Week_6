{
  "cells": [
    {
      "cell_type": "code",
      "source": [
        "!pip install modin\n",
        "!pip install ray\n",
        "!pip install dask"
      ],
      "metadata": {
        "id": "TzIKN8aDGOVJ",
        "colab": {
          "base_uri": "https://localhost:8080/"
        },
        "outputId": "3eff8385-51eb-4506-f129-a5ebde8cd829"
      },
      "execution_count": 1,
      "outputs": [
        {
          "output_type": "stream",
          "name": "stdout",
          "text": [
            "Looking in indexes: https://pypi.org/simple, https://us-python.pkg.dev/colab-wheels/public/simple/\n",
            "Collecting modin\n",
            "  Downloading modin-0.12.1-py3-none-any.whl (761 kB)\n",
            "\u001b[K     |████████████████████████████████| 761 kB 5.0 MB/s \n",
            "\u001b[?25hRequirement already satisfied: numpy>=1.16.5 in /usr/local/lib/python3.7/dist-packages (from modin) (1.21.6)\n",
            "Requirement already satisfied: pandas==1.3.5 in /usr/local/lib/python3.7/dist-packages (from modin) (1.3.5)\n",
            "Requirement already satisfied: packaging in /usr/local/lib/python3.7/dist-packages (from modin) (21.3)\n",
            "Collecting fsspec\n",
            "  Downloading fsspec-2022.5.0-py3-none-any.whl (140 kB)\n",
            "\u001b[K     |████████████████████████████████| 140 kB 44.5 MB/s \n",
            "\u001b[?25hRequirement already satisfied: python-dateutil>=2.7.3 in /usr/local/lib/python3.7/dist-packages (from pandas==1.3.5->modin) (2.8.2)\n",
            "Requirement already satisfied: pytz>=2017.3 in /usr/local/lib/python3.7/dist-packages (from pandas==1.3.5->modin) (2022.1)\n",
            "Requirement already satisfied: six>=1.5 in /usr/local/lib/python3.7/dist-packages (from python-dateutil>=2.7.3->pandas==1.3.5->modin) (1.15.0)\n",
            "Requirement already satisfied: pyparsing!=3.0.5,>=2.0.2 in /usr/local/lib/python3.7/dist-packages (from packaging->modin) (3.0.9)\n",
            "Installing collected packages: fsspec, modin\n",
            "Successfully installed fsspec-2022.5.0 modin-0.12.1\n",
            "Looking in indexes: https://pypi.org/simple, https://us-python.pkg.dev/colab-wheels/public/simple/\n",
            "Collecting ray\n",
            "  Downloading ray-1.13.0-cp37-cp37m-manylinux2014_x86_64.whl (54.5 MB)\n",
            "\u001b[K     |████████████████████████████████| 54.5 MB 123 kB/s \n",
            "\u001b[?25hRequirement already satisfied: protobuf<4.0.0,>=3.15.3 in /usr/local/lib/python3.7/dist-packages (from ray) (3.17.3)\n",
            "Requirement already satisfied: pyyaml in /usr/local/lib/python3.7/dist-packages (from ray) (3.13)\n",
            "Collecting grpcio<=1.43.0,>=1.28.1\n",
            "  Downloading grpcio-1.43.0-cp37-cp37m-manylinux_2_17_x86_64.manylinux2014_x86_64.whl (4.1 MB)\n",
            "\u001b[K     |████████████████████████████████| 4.1 MB 55.3 MB/s \n",
            "\u001b[?25hCollecting aiosignal\n",
            "  Downloading aiosignal-1.2.0-py3-none-any.whl (8.2 kB)\n",
            "Collecting virtualenv\n",
            "  Downloading virtualenv-20.15.1-py2.py3-none-any.whl (10.1 MB)\n",
            "\u001b[K     |████████████████████████████████| 10.1 MB 39.8 MB/s \n",
            "\u001b[?25hRequirement already satisfied: click<=8.0.4,>=7.0 in /usr/local/lib/python3.7/dist-packages (from ray) (7.1.2)\n",
            "Requirement already satisfied: requests in /usr/local/lib/python3.7/dist-packages (from ray) (2.23.0)\n",
            "Requirement already satisfied: numpy>=1.16 in /usr/local/lib/python3.7/dist-packages (from ray) (1.21.6)\n",
            "Requirement already satisfied: jsonschema in /usr/local/lib/python3.7/dist-packages (from ray) (4.3.3)\n",
            "Requirement already satisfied: attrs in /usr/local/lib/python3.7/dist-packages (from ray) (21.4.0)\n",
            "Requirement already satisfied: filelock in /usr/local/lib/python3.7/dist-packages (from ray) (3.7.1)\n",
            "Collecting frozenlist\n",
            "  Downloading frozenlist-1.3.0-cp37-cp37m-manylinux_2_5_x86_64.manylinux1_x86_64.manylinux_2_17_x86_64.manylinux2014_x86_64.whl (144 kB)\n",
            "\u001b[K     |████████████████████████████████| 144 kB 66.1 MB/s \n",
            "\u001b[?25hRequirement already satisfied: msgpack<2.0.0,>=1.0.0 in /usr/local/lib/python3.7/dist-packages (from ray) (1.0.4)\n",
            "Requirement already satisfied: six>=1.5.2 in /usr/local/lib/python3.7/dist-packages (from grpcio<=1.43.0,>=1.28.1->ray) (1.15.0)\n",
            "Requirement already satisfied: typing-extensions in /usr/local/lib/python3.7/dist-packages (from jsonschema->ray) (4.1.1)\n",
            "Requirement already satisfied: importlib-metadata in /usr/local/lib/python3.7/dist-packages (from jsonschema->ray) (4.11.4)\n",
            "Requirement already satisfied: pyrsistent!=0.17.0,!=0.17.1,!=0.17.2,>=0.14.0 in /usr/local/lib/python3.7/dist-packages (from jsonschema->ray) (0.18.1)\n",
            "Requirement already satisfied: importlib-resources>=1.4.0 in /usr/local/lib/python3.7/dist-packages (from jsonschema->ray) (5.7.1)\n",
            "Requirement already satisfied: zipp>=3.1.0 in /usr/local/lib/python3.7/dist-packages (from importlib-resources>=1.4.0->jsonschema->ray) (3.8.0)\n",
            "Requirement already satisfied: certifi>=2017.4.17 in /usr/local/lib/python3.7/dist-packages (from requests->ray) (2022.6.15)\n",
            "Requirement already satisfied: idna<3,>=2.5 in /usr/local/lib/python3.7/dist-packages (from requests->ray) (2.10)\n",
            "Requirement already satisfied: chardet<4,>=3.0.2 in /usr/local/lib/python3.7/dist-packages (from requests->ray) (3.0.4)\n",
            "Requirement already satisfied: urllib3!=1.25.0,!=1.25.1,<1.26,>=1.21.1 in /usr/local/lib/python3.7/dist-packages (from requests->ray) (1.24.3)\n",
            "Collecting distlib<1,>=0.3.1\n",
            "  Downloading distlib-0.3.4-py2.py3-none-any.whl (461 kB)\n",
            "\u001b[K     |████████████████████████████████| 461 kB 51.3 MB/s \n",
            "\u001b[?25hCollecting platformdirs<3,>=2\n",
            "  Downloading platformdirs-2.5.2-py3-none-any.whl (14 kB)\n",
            "Installing collected packages: platformdirs, frozenlist, distlib, virtualenv, grpcio, aiosignal, ray\n",
            "  Attempting uninstall: grpcio\n",
            "    Found existing installation: grpcio 1.46.3\n",
            "    Uninstalling grpcio-1.46.3:\n",
            "      Successfully uninstalled grpcio-1.46.3\n",
            "Successfully installed aiosignal-1.2.0 distlib-0.3.4 frozenlist-1.3.0 grpcio-1.43.0 platformdirs-2.5.2 ray-1.13.0 virtualenv-20.15.1\n",
            "Looking in indexes: https://pypi.org/simple, https://us-python.pkg.dev/colab-wheels/public/simple/\n",
            "Requirement already satisfied: dask in /usr/local/lib/python3.7/dist-packages (2.12.0)\n"
          ]
        }
      ]
    },
    {
      "cell_type": "markdown",
      "source": [
        "# **Read CSV with Pandas, Dask, Modin/Ray**"
      ],
      "metadata": {
        "id": "je-RQjir3CaA"
      }
    },
    {
      "cell_type": "code",
      "execution_count": 2,
      "metadata": {
        "id": "sVQ44xGeEovC"
      },
      "outputs": [],
      "source": [
        "import pandas as pd\n",
        "import dask.dataframe as dd\n",
        "import modin.pandas as mpd\n",
        "import ray\n",
        "import time"
      ]
    },
    {
      "cell_type": "code",
      "execution_count": 3,
      "metadata": {
        "colab": {
          "base_uri": "https://localhost:8080/",
          "height": 130
        },
        "id": "d39sCLqOEu6E",
        "outputId": "c180a73f-7a25-483c-d9ce-67fe5e2d4471"
      },
      "outputs": [
        {
          "output_type": "error",
          "ename": "SyntaxError",
          "evalue": "ignored",
          "traceback": [
            "\u001b[0;36m  File \u001b[0;32m\"<ipython-input-3-298676519367>\"\u001b[0;36m, line \u001b[0;32m1\u001b[0m\n\u001b[0;31m    csvfile='C:\\Users\\jeeye\\Documents\\DG\\price_paid_records.csv'\u001b[0m\n\u001b[0m           ^\u001b[0m\n\u001b[0;31mSyntaxError\u001b[0m\u001b[0;31m:\u001b[0m (unicode error) 'unicodeescape' codec can't decode bytes in position 2-3: truncated \\UXXXXXXXX escape\n"
          ]
        }
      ],
      "source": [
        "csvfile='C:\\Users\\jeeye\\Documents\\DG\\price_paid_records.csv'"
      ]
    },
    {
      "cell_type": "code",
      "source": [
        "#Pandas to read the CSV\n",
        "\n",
        "start = time.time()\n",
        "df=pd.read_csv(csvfile)\n",
        "end = time.time()\n",
        "print('Time to read the CSV (pandas): ',end - start, 'seconds')"
      ],
      "metadata": {
        "id": "-HqDtmK-hcJo"
      },
      "execution_count": null,
      "outputs": []
    },
    {
      "cell_type": "code",
      "source": [
        "#Modin/Ray to read the CSV\n",
        "\n",
        "start = time.time()\n",
        "ray.shutdown()\n",
        "ray.init()\n",
        "mpd.read_csv(csvfile)\n",
        "end = time.time()\n",
        "print('Time to read the CSV (modin/ray): ',end - start, 'seconds')"
      ],
      "metadata": {
        "id": "ZZYBoBKtFBOI"
      },
      "execution_count": null,
      "outputs": []
    },
    {
      "cell_type": "code",
      "source": [
        "#Dask to read the CSV\n",
        "\n",
        "start = time.time()\n",
        "dd.read_csv(csvfile)\n",
        "end = time.time()\n",
        "print('Time to read the CSV (dask): ',end - start, 'seconds')"
      ],
      "metadata": {
        "id": "_EMxpe0uGc3j"
      },
      "execution_count": null,
      "outputs": []
    },
    {
      "cell_type": "markdown",
      "source": [
        "**Dask took the least time reading the CSV file!**\n"
      ],
      "metadata": {
        "id": "e_rIbh9o3c7a"
      }
    },
    {
      "cell_type": "markdown",
      "source": [
        "# **Clean the Column Names**"
      ],
      "metadata": {
        "id": "KOKiH4O5H2S9"
      }
    },
    {
      "cell_type": "code",
      "source": [
        "# Remove spaces and special chars from the cols\n",
        "\n",
        "data.columns=data.columns.str.lower()\n",
        "data.columns = data.columns.str.replace(' ', '')\n",
        "data.columns=data.columns.str.replace('[^\\w]','_',regex=True)\n",
        "print(data.columns)"
      ],
      "metadata": {
        "id": "LtLjn3jVHjrZ"
      },
      "execution_count": null,
      "outputs": []
    },
    {
      "cell_type": "markdown",
      "source": [
        "# **Validation**\n",
        "\n"
      ],
      "metadata": {
        "id": "sy7UVJjFFRA4"
      }
    },
    {
      "cell_type": "code",
      "source": [
        "%%writefile utility.py\n",
        "import yaml\n",
        "import logging\n",
        "import os\n",
        "import subprocess\n",
        "import pandas as pd\n",
        "import re\n",
        "import gc\n",
        "import datetime\n",
        "\n",
        "def read_config_file(filepath):\n",
        "  with open(filepath, 'r') as stream:\n",
        "    try:\n",
        "      return yaml.safe_load(stream)\n",
        "    except yaml.YAMLerror as exc:\n",
        "      logging.error(exc)\n",
        "\n",
        "def replacer(string, char):\n",
        "    pattern = char + '{2,}'\n",
        "    string = re.sub(pattern, char, string) \n",
        "    return string\n",
        "\n",
        "def col_header_val(df, table_config):\n",
        "  df.columns=df.columns.str.lower()\n",
        "  df.columns=df.columns.str.replace('[^\\w]','_',regex=True)\n",
        "  df.columns = list(map(lambda x: x.strip('_'), list(df.columns)))\n",
        "  df.columns = list(map(lambda x: replacer(x,'_'), list(df.columns)))\n",
        "  expected_col = list(map(lambda x: x.lower(), table_config['columns']))\n",
        "  expected_col.sort()\n",
        "  df.columns = list(map(lambda x: x.lower(), list(df.columns)))\n",
        "  df=df.reindex(sorted(df.columns), axis=1)\n",
        "  if len(df.columns) == len(expected_col) and list(expected_col) == list(df.columns):\n",
        "    print(\"Column name and column length validation passed\")\n",
        "    return 1\n",
        "  else:\n",
        "    print(\"Column name and column length validation failed\")\n",
        "    mismatched_columns_file = list(set(df.columns).difference(expected_col))\n",
        "    print(\"Following file columns are not in the YAML file\", mismatched_columns_file)\n",
        "    missing_YAML_file = list(set(expected_col).difference(df.columns))\n",
        "    print(\"Following YAML columns are not in the file uploaded\", missing_YAML_file)\n",
        "    logging.info(f'df columns: {df.columns}')\n",
        "    logging.info(f'expected columns: {expected_col}')\n",
        "    return 0"
      ],
      "metadata": {
        "id": "ilf89sD9Ud4_"
      },
      "execution_count": null,
      "outputs": []
    },
    {
      "cell_type": "code",
      "source": [
        "%%writefile store.yaml\n",
        "file_type: csv\n",
        "dataset_name: testfile\n",
        "file_name: price_paid_records\n",
        "table_name: endsurv\n",
        "inbound_delimiter: ','\n",
        "outbound_delimiter: '|'\n",
        "skip_leading_rows: 1\n",
        "columns:\n",
        "  - transaction_unique_identifier\n",
        "  - price\n",
        "  - date_of_transfer\n",
        "  - property_type\n",
        "  - old_new\n",
        "  - duration\n",
        "  - town_city\n",
        "  - district\n",
        "  - county\n",
        "  - ppdcategory_type\n",
        "  - record_status_monthly_file_only"
      ],
      "metadata": {
        "id": "WwX-9PXfmWLB"
      },
      "execution_count": null,
      "outputs": []
    },
    {
      "cell_type": "code",
      "source": [
        "# Read config file\n",
        "\n",
        "import utility as util\n",
        "config_data = util.read_config_file(\"store.yaml\")"
      ],
      "metadata": {
        "id": "-RA8Ys0zrDoy"
      },
      "execution_count": null,
      "outputs": []
    },
    {
      "cell_type": "code",
      "source": [
        "config_data['inbound_delimiter']"
      ],
      "metadata": {
        "id": "iWhtVjFirO7k"
      },
      "execution_count": null,
      "outputs": []
    },
    {
      "cell_type": "code",
      "source": [
        "#data of the config file\n",
        "config_data"
      ],
      "metadata": {
        "id": "WxOlPTpdrbK-"
      },
      "execution_count": null,
      "outputs": []
    },
    {
      "cell_type": "code",
      "source": [
        "#Read the file using config file\n",
        "file_type = config_data['file_type']\n",
        "source_file = \"C:\\Users\\jeeye\\Documents\\DG\\\" + config_data['file_name'] + f'.{file_type}'\n",
        "df = pd.read_csv(source_file,config_data['inbound_delimiter'])\n",
        "df.head()"
      ],
      "metadata": {
        "id": "umkPDnv0xECp"
      },
      "execution_count": null,
      "outputs": []
    },
    {
      "cell_type": "code",
      "source": [
        "#Validate the Header of the file\n",
        "util.col_header_val(df,config_data)"
      ],
      "metadata": {
        "id": "Wvz41vuvxqIl"
      },
      "execution_count": null,
      "outputs": []
    },
    {
      "cell_type": "code",
      "source": [
        "print(\"Columns of files are:\" , df.columns)\n",
        "print(\"Columns of YAML are:\" , config_data['columns'])"
      ],
      "metadata": {
        "id": "JALkqVsIxp66"
      },
      "execution_count": null,
      "outputs": []
    },
    {
      "cell_type": "code",
      "source": [
        "if util.col_header_val(df,config_data)==0:\n",
        "    print(\"Validation failed\")\n",
        "    print(\"Columns of the file does not match the YAML\")\n",
        "else:\n",
        "    print(\"Column validation passed\")\n",
        "    print('Preview of the data\\n', df.head())"
      ],
      "metadata": {
        "id": "3TB4tgvdyFvm"
      },
      "execution_count": null,
      "outputs": []
    },
    {
      "cell_type": "markdown",
      "source": [
        "# **Save pipe separated file as .gz**"
      ],
      "metadata": {
        "id": "2o2RHaPPV1by"
      }
    },
    {
      "cell_type": "code",
      "source": [
        "#csv to gz\n",
        "\n",
        "import gzip\n",
        "import csv\n",
        "\n",
        "df.to_csv('dfgz.csv.gz',\n",
        "      sep='|',\n",
        "      header=True,\n",
        "      index=False,\n",
        "      quoting=csv.QUOTE_ALL,\n",
        "      compression='gzip',\n",
        "      quotechar='\"',\n",
        "      doublequote=True,\n",
        "      line_terminator='\\n')"
      ],
      "metadata": {
        "id": "7OjQrk3SVwOh"
      },
      "execution_count": null,
      "outputs": []
    },
    {
      "cell_type": "code",
      "source": [
        "# Number of cols in the gz file\n",
        "import os\n",
        "entries = os.listdir('./dfgz.csv.gz')\n",
        "for entry in entries:\n",
        "    print(entry)"
      ],
      "metadata": {
        "id": "BW9kdyKNYloW"
      },
      "execution_count": null,
      "outputs": []
    },
    {
      "cell_type": "markdown",
      "source": [
        ""
      ],
      "metadata": {
        "id": "4t4hkDJv5U2W"
      }
    },
    {
      "cell_type": "markdown",
      "source": [
        "# **Summary of the File**"
      ],
      "metadata": {
        "id": "pMgVmsot31SB"
      }
    },
    {
      "cell_type": "code",
      "source": [
        "#Size of the CSV file\n",
        "\n",
        "import os\n",
        "data=dd.read_csv(csvfile)\n",
        "print('Size of the CSV file: ', str(os.path.getsize(csvfile), 'Bytes'))"
      ],
      "metadata": {
        "id": "tDrvCOLCIh4X"
      },
      "execution_count": null,
      "outputs": []
    },
    {
      "cell_type": "code",
      "source": [
        "#Number of rows/cols\n",
        "print('Number of Rows: ',len(df.rows))\n",
        "print('Number of columns:', len(df.columns))"
      ],
      "metadata": {
        "id": "eUrEpLGFG5MQ"
      },
      "execution_count": null,
      "outputs": []
    }
  ],
  "metadata": {
    "colab": {
      "name": "Week 6.ipynb",
      "provenance": [],
      "collapsed_sections": [
        "2o2RHaPPV1by"
      ]
    },
    "kernelspec": {
      "display_name": "Python 3",
      "name": "python3"
    },
    "language_info": {
      "name": "python"
    }
  },
  "nbformat": 4,
  "nbformat_minor": 0
}